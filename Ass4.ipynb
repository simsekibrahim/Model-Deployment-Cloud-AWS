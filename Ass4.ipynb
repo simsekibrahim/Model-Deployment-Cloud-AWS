{
 "cells": [
  {
   "cell_type": "markdown",
   "id": "developing-assignment",
   "metadata": {},
   "source": [
    "## Decision Tree- Regression"
   ]
  },
  {
   "cell_type": "code",
   "execution_count": 1,
   "id": "threaded-frank",
   "metadata": {
    "ExecuteTime": {
     "end_time": "2022-12-10T06:14:11.217649Z",
     "start_time": "2022-12-10T06:14:09.808961Z"
    }
   },
   "outputs": [],
   "source": [
    "import pandas as pd\n",
    "import numpy as np\n",
    "import matplotlib.pyplot as plt\n",
    "import seaborn as sns\n",
    "%matplotlib inline\n",
    "\n",
    "plt.rcParams[\"figure.figsize\"] = (8,4)\n",
    "import warnings\n",
    "warnings.filterwarnings('ignore')\n",
    "pd.set_option('display.max_rows', 1000)"
   ]
  },
  {
   "cell_type": "code",
   "execution_count": 2,
   "id": "resident-berkeley",
   "metadata": {
    "ExecuteTime": {
     "end_time": "2022-12-10T06:14:11.265678Z",
     "start_time": "2022-12-10T06:14:11.217649Z"
    }
   },
   "outputs": [
    {
     "data": {
      "text/html": [
       "<div>\n",
       "<style scoped>\n",
       "    .dataframe tbody tr th:only-of-type {\n",
       "        vertical-align: middle;\n",
       "    }\n",
       "\n",
       "    .dataframe tbody tr th {\n",
       "        vertical-align: top;\n",
       "    }\n",
       "\n",
       "    .dataframe thead th {\n",
       "        text-align: right;\n",
       "    }\n",
       "</style>\n",
       "<table border=\"1\" class=\"dataframe\">\n",
       "  <thead>\n",
       "    <tr style=\"text-align: right;\">\n",
       "      <th></th>\n",
       "      <th>make_model</th>\n",
       "      <th>body_type</th>\n",
       "      <th>price</th>\n",
       "      <th>vat</th>\n",
       "      <th>km</th>\n",
       "      <th>Type</th>\n",
       "      <th>Fuel</th>\n",
       "      <th>Gears</th>\n",
       "      <th>Comfort_Convenience</th>\n",
       "      <th>Entertainment_Media</th>\n",
       "      <th>...</th>\n",
       "      <th>Previous_Owners</th>\n",
       "      <th>hp_kW</th>\n",
       "      <th>Inspection_new</th>\n",
       "      <th>Paint_Type</th>\n",
       "      <th>Upholstery_type</th>\n",
       "      <th>Gearing_Type</th>\n",
       "      <th>Displacement_cc</th>\n",
       "      <th>Weight_kg</th>\n",
       "      <th>Drive_chain</th>\n",
       "      <th>cons_comb</th>\n",
       "    </tr>\n",
       "  </thead>\n",
       "  <tbody>\n",
       "    <tr>\n",
       "      <th>0</th>\n",
       "      <td>Audi A1</td>\n",
       "      <td>Sedans</td>\n",
       "      <td>15770</td>\n",
       "      <td>VAT deductible</td>\n",
       "      <td>56013.0</td>\n",
       "      <td>Used</td>\n",
       "      <td>Diesel</td>\n",
       "      <td>7.0</td>\n",
       "      <td>Air conditioning,Armrest,Automatic climate con...</td>\n",
       "      <td>Bluetooth,Hands-free equipment,On-board comput...</td>\n",
       "      <td>...</td>\n",
       "      <td>2.0</td>\n",
       "      <td>66.0</td>\n",
       "      <td>1</td>\n",
       "      <td>Metallic</td>\n",
       "      <td>Cloth</td>\n",
       "      <td>Automatic</td>\n",
       "      <td>1422.0</td>\n",
       "      <td>1220.0</td>\n",
       "      <td>front</td>\n",
       "      <td>3.8</td>\n",
       "    </tr>\n",
       "    <tr>\n",
       "      <th>1</th>\n",
       "      <td>Audi A1</td>\n",
       "      <td>Sedans</td>\n",
       "      <td>14500</td>\n",
       "      <td>Price negotiable</td>\n",
       "      <td>80000.0</td>\n",
       "      <td>Used</td>\n",
       "      <td>Benzine</td>\n",
       "      <td>7.0</td>\n",
       "      <td>Air conditioning,Automatic climate control,Hil...</td>\n",
       "      <td>Bluetooth,Hands-free equipment,On-board comput...</td>\n",
       "      <td>...</td>\n",
       "      <td>1.0</td>\n",
       "      <td>141.0</td>\n",
       "      <td>0</td>\n",
       "      <td>Metallic</td>\n",
       "      <td>Cloth</td>\n",
       "      <td>Automatic</td>\n",
       "      <td>1798.0</td>\n",
       "      <td>1255.0</td>\n",
       "      <td>front</td>\n",
       "      <td>5.6</td>\n",
       "    </tr>\n",
       "    <tr>\n",
       "      <th>2</th>\n",
       "      <td>Audi A1</td>\n",
       "      <td>Sedans</td>\n",
       "      <td>14640</td>\n",
       "      <td>VAT deductible</td>\n",
       "      <td>83450.0</td>\n",
       "      <td>Used</td>\n",
       "      <td>Diesel</td>\n",
       "      <td>7.0</td>\n",
       "      <td>Air conditioning,Cruise control,Electrical sid...</td>\n",
       "      <td>MP3,On-board computer</td>\n",
       "      <td>...</td>\n",
       "      <td>1.0</td>\n",
       "      <td>85.0</td>\n",
       "      <td>0</td>\n",
       "      <td>Metallic</td>\n",
       "      <td>Cloth</td>\n",
       "      <td>Automatic</td>\n",
       "      <td>1598.0</td>\n",
       "      <td>1135.0</td>\n",
       "      <td>front</td>\n",
       "      <td>3.8</td>\n",
       "    </tr>\n",
       "    <tr>\n",
       "      <th>3</th>\n",
       "      <td>Audi A1</td>\n",
       "      <td>Sedans</td>\n",
       "      <td>14500</td>\n",
       "      <td>VAT deductible</td>\n",
       "      <td>73000.0</td>\n",
       "      <td>Used</td>\n",
       "      <td>Diesel</td>\n",
       "      <td>6.0</td>\n",
       "      <td>Air suspension,Armrest,Auxiliary heating,Elect...</td>\n",
       "      <td>Bluetooth,CD player,Hands-free equipment,MP3,O...</td>\n",
       "      <td>...</td>\n",
       "      <td>1.0</td>\n",
       "      <td>66.0</td>\n",
       "      <td>0</td>\n",
       "      <td>Metallic</td>\n",
       "      <td>Cloth</td>\n",
       "      <td>Automatic</td>\n",
       "      <td>1422.0</td>\n",
       "      <td>1195.0</td>\n",
       "      <td>front</td>\n",
       "      <td>3.8</td>\n",
       "    </tr>\n",
       "    <tr>\n",
       "      <th>4</th>\n",
       "      <td>Audi A1</td>\n",
       "      <td>Sedans</td>\n",
       "      <td>16790</td>\n",
       "      <td>VAT deductible</td>\n",
       "      <td>16200.0</td>\n",
       "      <td>Used</td>\n",
       "      <td>Diesel</td>\n",
       "      <td>7.0</td>\n",
       "      <td>Air conditioning,Armrest,Automatic climate con...</td>\n",
       "      <td>Bluetooth,CD player,Hands-free equipment,MP3,O...</td>\n",
       "      <td>...</td>\n",
       "      <td>1.0</td>\n",
       "      <td>66.0</td>\n",
       "      <td>1</td>\n",
       "      <td>Metallic</td>\n",
       "      <td>Cloth</td>\n",
       "      <td>Automatic</td>\n",
       "      <td>1422.0</td>\n",
       "      <td>1135.0</td>\n",
       "      <td>front</td>\n",
       "      <td>4.1</td>\n",
       "    </tr>\n",
       "  </tbody>\n",
       "</table>\n",
       "<p>5 rows × 23 columns</p>\n",
       "</div>"
      ],
      "text/plain": [
       "  make_model body_type  price               vat       km  Type     Fuel  \\\n",
       "0    Audi A1    Sedans  15770    VAT deductible  56013.0  Used   Diesel   \n",
       "1    Audi A1    Sedans  14500  Price negotiable  80000.0  Used  Benzine   \n",
       "2    Audi A1    Sedans  14640    VAT deductible  83450.0  Used   Diesel   \n",
       "3    Audi A1    Sedans  14500    VAT deductible  73000.0  Used   Diesel   \n",
       "4    Audi A1    Sedans  16790    VAT deductible  16200.0  Used   Diesel   \n",
       "\n",
       "   Gears                                Comfort_Convenience  \\\n",
       "0    7.0  Air conditioning,Armrest,Automatic climate con...   \n",
       "1    7.0  Air conditioning,Automatic climate control,Hil...   \n",
       "2    7.0  Air conditioning,Cruise control,Electrical sid...   \n",
       "3    6.0  Air suspension,Armrest,Auxiliary heating,Elect...   \n",
       "4    7.0  Air conditioning,Armrest,Automatic climate con...   \n",
       "\n",
       "                                 Entertainment_Media  ... Previous_Owners  \\\n",
       "0  Bluetooth,Hands-free equipment,On-board comput...  ...             2.0   \n",
       "1  Bluetooth,Hands-free equipment,On-board comput...  ...             1.0   \n",
       "2                              MP3,On-board computer  ...             1.0   \n",
       "3  Bluetooth,CD player,Hands-free equipment,MP3,O...  ...             1.0   \n",
       "4  Bluetooth,CD player,Hands-free equipment,MP3,O...  ...             1.0   \n",
       "\n",
       "   hp_kW  Inspection_new  Paint_Type  Upholstery_type  Gearing_Type  \\\n",
       "0   66.0               1    Metallic            Cloth     Automatic   \n",
       "1  141.0               0    Metallic            Cloth     Automatic   \n",
       "2   85.0               0    Metallic            Cloth     Automatic   \n",
       "3   66.0               0    Metallic            Cloth     Automatic   \n",
       "4   66.0               1    Metallic            Cloth     Automatic   \n",
       "\n",
       "  Displacement_cc Weight_kg Drive_chain  cons_comb  \n",
       "0          1422.0    1220.0       front        3.8  \n",
       "1          1798.0    1255.0       front        5.6  \n",
       "2          1598.0    1135.0       front        3.8  \n",
       "3          1422.0    1195.0       front        3.8  \n",
       "4          1422.0    1135.0       front        4.1  \n",
       "\n",
       "[5 rows x 23 columns]"
      ]
     },
     "execution_count": 2,
     "metadata": {},
     "output_type": "execute_result"
    }
   ],
   "source": [
    "df=pd.read_csv(\"final_scout_not_dummy.csv\")\n",
    "df.head()"
   ]
  },
  {
   "cell_type": "code",
   "execution_count": 3,
   "id": "improved-destruction",
   "metadata": {
    "ExecuteTime": {
     "end_time": "2022-12-10T06:14:11.281619Z",
     "start_time": "2022-12-10T06:14:11.265678Z"
    }
   },
   "outputs": [
    {
     "data": {
      "text/plain": [
       "(15915, 23)"
      ]
     },
     "execution_count": 3,
     "metadata": {},
     "output_type": "execute_result"
    }
   ],
   "source": [
    "df.shape"
   ]
  },
  {
   "cell_type": "code",
   "execution_count": 4,
   "id": "available-berkeley",
   "metadata": {
    "ExecuteTime": {
     "end_time": "2022-12-10T06:14:11.321622Z",
     "start_time": "2022-12-10T06:14:11.281619Z"
    }
   },
   "outputs": [
    {
     "name": "stdout",
     "output_type": "stream",
     "text": [
      "<class 'pandas.core.frame.DataFrame'>\n",
      "RangeIndex: 15915 entries, 0 to 15914\n",
      "Data columns (total 23 columns):\n",
      " #   Column               Non-Null Count  Dtype  \n",
      "---  ------               --------------  -----  \n",
      " 0   make_model           15915 non-null  object \n",
      " 1   body_type            15915 non-null  object \n",
      " 2   price                15915 non-null  int64  \n",
      " 3   vat                  15915 non-null  object \n",
      " 4   km                   15915 non-null  float64\n",
      " 5   Type                 15915 non-null  object \n",
      " 6   Fuel                 15915 non-null  object \n",
      " 7   Gears                15915 non-null  float64\n",
      " 8   Comfort_Convenience  15915 non-null  object \n",
      " 9   Entertainment_Media  15915 non-null  object \n",
      " 10  Extras               15915 non-null  object \n",
      " 11  Safety_Security      15915 non-null  object \n",
      " 12  age                  15915 non-null  float64\n",
      " 13  Previous_Owners      15915 non-null  float64\n",
      " 14  hp_kW                15915 non-null  float64\n",
      " 15  Inspection_new       15915 non-null  int64  \n",
      " 16  Paint_Type           15915 non-null  object \n",
      " 17  Upholstery_type      15915 non-null  object \n",
      " 18  Gearing_Type         15915 non-null  object \n",
      " 19  Displacement_cc      15915 non-null  float64\n",
      " 20  Weight_kg            15915 non-null  float64\n",
      " 21  Drive_chain          15915 non-null  object \n",
      " 22  cons_comb            15915 non-null  float64\n",
      "dtypes: float64(8), int64(2), object(13)\n",
      "memory usage: 2.8+ MB\n"
     ]
    }
   ],
   "source": [
    "df.info()"
   ]
  },
  {
   "cell_type": "code",
   "execution_count": 5,
   "id": "extended-maximum",
   "metadata": {
    "ExecuteTime": {
     "end_time": "2022-12-10T06:14:11.337612Z",
     "start_time": "2022-12-10T06:14:11.321622Z"
    }
   },
   "outputs": [
    {
     "data": {
      "text/plain": [
       "make_model             False\n",
       "body_type              False\n",
       "price                  False\n",
       "vat                    False\n",
       "km                     False\n",
       "Type                   False\n",
       "Fuel                   False\n",
       "Gears                  False\n",
       "Comfort_Convenience    False\n",
       "Entertainment_Media    False\n",
       "Extras                 False\n",
       "Safety_Security        False\n",
       "age                    False\n",
       "Previous_Owners        False\n",
       "hp_kW                  False\n",
       "Inspection_new         False\n",
       "Paint_Type             False\n",
       "Upholstery_type        False\n",
       "Gearing_Type           False\n",
       "Displacement_cc        False\n",
       "Weight_kg              False\n",
       "Drive_chain            False\n",
       "cons_comb              False\n",
       "dtype: bool"
      ]
     },
     "execution_count": 5,
     "metadata": {},
     "output_type": "execute_result"
    }
   ],
   "source": [
    "df.isnull().any()"
   ]
  },
  {
   "cell_type": "code",
   "execution_count": 6,
   "id": "iraqi-invitation",
   "metadata": {
    "ExecuteTime": {
     "end_time": "2022-12-10T06:14:11.377598Z",
     "start_time": "2022-12-10T06:14:11.337612Z"
    }
   },
   "outputs": [
    {
     "data": {
      "text/html": [
       "<div>\n",
       "<style scoped>\n",
       "    .dataframe tbody tr th:only-of-type {\n",
       "        vertical-align: middle;\n",
       "    }\n",
       "\n",
       "    .dataframe tbody tr th {\n",
       "        vertical-align: top;\n",
       "    }\n",
       "\n",
       "    .dataframe thead th {\n",
       "        text-align: right;\n",
       "    }\n",
       "</style>\n",
       "<table border=\"1\" class=\"dataframe\">\n",
       "  <thead>\n",
       "    <tr style=\"text-align: right;\">\n",
       "      <th></th>\n",
       "      <th>count</th>\n",
       "      <th>mean</th>\n",
       "      <th>std</th>\n",
       "      <th>min</th>\n",
       "      <th>25%</th>\n",
       "      <th>50%</th>\n",
       "      <th>75%</th>\n",
       "      <th>max</th>\n",
       "    </tr>\n",
       "  </thead>\n",
       "  <tbody>\n",
       "    <tr>\n",
       "      <th>price</th>\n",
       "      <td>15915.0</td>\n",
       "      <td>18024.380584</td>\n",
       "      <td>7381.679318</td>\n",
       "      <td>4950.0</td>\n",
       "      <td>12850.0</td>\n",
       "      <td>16900.0</td>\n",
       "      <td>21900.0</td>\n",
       "      <td>74600.0</td>\n",
       "    </tr>\n",
       "    <tr>\n",
       "      <th>km</th>\n",
       "      <td>15915.0</td>\n",
       "      <td>32089.995708</td>\n",
       "      <td>36977.214964</td>\n",
       "      <td>0.0</td>\n",
       "      <td>1920.5</td>\n",
       "      <td>20413.0</td>\n",
       "      <td>46900.0</td>\n",
       "      <td>317000.0</td>\n",
       "    </tr>\n",
       "    <tr>\n",
       "      <th>Gears</th>\n",
       "      <td>15915.0</td>\n",
       "      <td>5.937355</td>\n",
       "      <td>0.704772</td>\n",
       "      <td>5.0</td>\n",
       "      <td>5.0</td>\n",
       "      <td>6.0</td>\n",
       "      <td>6.0</td>\n",
       "      <td>8.0</td>\n",
       "    </tr>\n",
       "    <tr>\n",
       "      <th>age</th>\n",
       "      <td>15915.0</td>\n",
       "      <td>1.389695</td>\n",
       "      <td>1.121306</td>\n",
       "      <td>0.0</td>\n",
       "      <td>0.0</td>\n",
       "      <td>1.0</td>\n",
       "      <td>2.0</td>\n",
       "      <td>3.0</td>\n",
       "    </tr>\n",
       "    <tr>\n",
       "      <th>Previous_Owners</th>\n",
       "      <td>15915.0</td>\n",
       "      <td>1.042853</td>\n",
       "      <td>0.339178</td>\n",
       "      <td>0.0</td>\n",
       "      <td>1.0</td>\n",
       "      <td>1.0</td>\n",
       "      <td>1.0</td>\n",
       "      <td>4.0</td>\n",
       "    </tr>\n",
       "    <tr>\n",
       "      <th>hp_kW</th>\n",
       "      <td>15915.0</td>\n",
       "      <td>88.499340</td>\n",
       "      <td>26.674341</td>\n",
       "      <td>40.0</td>\n",
       "      <td>66.0</td>\n",
       "      <td>85.0</td>\n",
       "      <td>103.0</td>\n",
       "      <td>294.0</td>\n",
       "    </tr>\n",
       "    <tr>\n",
       "      <th>Inspection_new</th>\n",
       "      <td>15915.0</td>\n",
       "      <td>0.247063</td>\n",
       "      <td>0.431317</td>\n",
       "      <td>0.0</td>\n",
       "      <td>0.0</td>\n",
       "      <td>0.0</td>\n",
       "      <td>0.0</td>\n",
       "      <td>1.0</td>\n",
       "    </tr>\n",
       "    <tr>\n",
       "      <th>Displacement_cc</th>\n",
       "      <td>15915.0</td>\n",
       "      <td>1428.661891</td>\n",
       "      <td>275.804272</td>\n",
       "      <td>890.0</td>\n",
       "      <td>1229.0</td>\n",
       "      <td>1461.0</td>\n",
       "      <td>1598.0</td>\n",
       "      <td>2967.0</td>\n",
       "    </tr>\n",
       "    <tr>\n",
       "      <th>Weight_kg</th>\n",
       "      <td>15915.0</td>\n",
       "      <td>1337.700534</td>\n",
       "      <td>199.682385</td>\n",
       "      <td>840.0</td>\n",
       "      <td>1165.0</td>\n",
       "      <td>1295.0</td>\n",
       "      <td>1472.0</td>\n",
       "      <td>2471.0</td>\n",
       "    </tr>\n",
       "    <tr>\n",
       "      <th>cons_comb</th>\n",
       "      <td>15915.0</td>\n",
       "      <td>4.832124</td>\n",
       "      <td>0.867530</td>\n",
       "      <td>3.0</td>\n",
       "      <td>4.1</td>\n",
       "      <td>4.8</td>\n",
       "      <td>5.4</td>\n",
       "      <td>9.1</td>\n",
       "    </tr>\n",
       "  </tbody>\n",
       "</table>\n",
       "</div>"
      ],
      "text/plain": [
       "                   count          mean           std     min      25%  \\\n",
       "price            15915.0  18024.380584   7381.679318  4950.0  12850.0   \n",
       "km               15915.0  32089.995708  36977.214964     0.0   1920.5   \n",
       "Gears            15915.0      5.937355      0.704772     5.0      5.0   \n",
       "age              15915.0      1.389695      1.121306     0.0      0.0   \n",
       "Previous_Owners  15915.0      1.042853      0.339178     0.0      1.0   \n",
       "hp_kW            15915.0     88.499340     26.674341    40.0     66.0   \n",
       "Inspection_new   15915.0      0.247063      0.431317     0.0      0.0   \n",
       "Displacement_cc  15915.0   1428.661891    275.804272   890.0   1229.0   \n",
       "Weight_kg        15915.0   1337.700534    199.682385   840.0   1165.0   \n",
       "cons_comb        15915.0      4.832124      0.867530     3.0      4.1   \n",
       "\n",
       "                     50%      75%       max  \n",
       "price            16900.0  21900.0   74600.0  \n",
       "km               20413.0  46900.0  317000.0  \n",
       "Gears                6.0      6.0       8.0  \n",
       "age                  1.0      2.0       3.0  \n",
       "Previous_Owners      1.0      1.0       4.0  \n",
       "hp_kW               85.0    103.0     294.0  \n",
       "Inspection_new       0.0      0.0       1.0  \n",
       "Displacement_cc   1461.0   1598.0    2967.0  \n",
       "Weight_kg         1295.0   1472.0    2471.0  \n",
       "cons_comb            4.8      5.4       9.1  "
      ]
     },
     "execution_count": 6,
     "metadata": {},
     "output_type": "execute_result"
    }
   ],
   "source": [
    "df.describe().T"
   ]
  },
  {
   "cell_type": "code",
   "execution_count": 7,
   "id": "similar-metabolism",
   "metadata": {
    "ExecuteTime": {
     "end_time": "2022-12-10T06:14:11.665750Z",
     "start_time": "2022-12-10T06:14:11.377598Z"
    }
   },
   "outputs": [
    {
     "data": {
      "image/png": "[encoded data removed]",
      "text/plain": [
       "<Figure size 800x400 with 2 Axes>"
      ]
     },
     "metadata": {},
     "output_type": "display_data"
    }
   ],
   "source": [
    "sns.heatmap(df.corr(), annot=True)\n",
    "plt.show()"
   ]
  },
  {
   "cell_type": "code",
   "execution_count": 8,
   "id": "civil-footwear",
   "metadata": {
    "ExecuteTime": {
     "end_time": "2022-12-10T06:14:11.689725Z",
     "start_time": "2022-12-10T06:14:11.665750Z"
    }
   },
   "outputs": [
    {
     "data": {
      "text/html": [
       "<div>\n",
       "<style scoped>\n",
       "    .dataframe tbody tr th:only-of-type {\n",
       "        vertical-align: middle;\n",
       "    }\n",
       "\n",
       "    .dataframe tbody tr th {\n",
       "        vertical-align: top;\n",
       "    }\n",
       "\n",
       "    .dataframe thead th {\n",
       "        text-align: right;\n",
       "    }\n",
       "</style>\n",
       "<table border=\"1\" class=\"dataframe\">\n",
       "  <thead>\n",
       "    <tr style=\"text-align: right;\">\n",
       "      <th></th>\n",
       "      <th>make_model</th>\n",
       "      <th>body_type</th>\n",
       "      <th>price</th>\n",
       "      <th>vat</th>\n",
       "      <th>km</th>\n",
       "      <th>Type</th>\n",
       "      <th>Fuel</th>\n",
       "      <th>Gears</th>\n",
       "      <th>Comfort_Convenience</th>\n",
       "      <th>Entertainment_Media</th>\n",
       "      <th>...</th>\n",
       "      <th>Previous_Owners</th>\n",
       "      <th>hp_kW</th>\n",
       "      <th>Inspection_new</th>\n",
       "      <th>Paint_Type</th>\n",
       "      <th>Upholstery_type</th>\n",
       "      <th>Gearing_Type</th>\n",
       "      <th>Displacement_cc</th>\n",
       "      <th>Weight_kg</th>\n",
       "      <th>Drive_chain</th>\n",
       "      <th>cons_comb</th>\n",
       "    </tr>\n",
       "  </thead>\n",
       "  <tbody>\n",
       "    <tr>\n",
       "      <th>0</th>\n",
       "      <td>Audi A1</td>\n",
       "      <td>Sedans</td>\n",
       "      <td>15770</td>\n",
       "      <td>VAT deductible</td>\n",
       "      <td>56013.0</td>\n",
       "      <td>Used</td>\n",
       "      <td>Diesel</td>\n",
       "      <td>7.0</td>\n",
       "      <td>Air conditioning,Armrest,Automatic climate con...</td>\n",
       "      <td>Bluetooth,Hands-free equipment,On-board comput...</td>\n",
       "      <td>...</td>\n",
       "      <td>2.0</td>\n",
       "      <td>66.0</td>\n",
       "      <td>1</td>\n",
       "      <td>Metallic</td>\n",
       "      <td>Cloth</td>\n",
       "      <td>Automatic</td>\n",
       "      <td>1422.0</td>\n",
       "      <td>1220.0</td>\n",
       "      <td>front</td>\n",
       "      <td>3.8</td>\n",
       "    </tr>\n",
       "    <tr>\n",
       "      <th>1</th>\n",
       "      <td>Audi A1</td>\n",
       "      <td>Sedans</td>\n",
       "      <td>14500</td>\n",
       "      <td>Price negotiable</td>\n",
       "      <td>80000.0</td>\n",
       "      <td>Used</td>\n",
       "      <td>Benzine</td>\n",
       "      <td>7.0</td>\n",
       "      <td>Air conditioning,Automatic climate control,Hil...</td>\n",
       "      <td>Bluetooth,Hands-free equipment,On-board comput...</td>\n",
       "      <td>...</td>\n",
       "      <td>1.0</td>\n",
       "      <td>141.0</td>\n",
       "      <td>0</td>\n",
       "      <td>Metallic</td>\n",
       "      <td>Cloth</td>\n",
       "      <td>Automatic</td>\n",
       "      <td>1798.0</td>\n",
       "      <td>1255.0</td>\n",
       "      <td>front</td>\n",
       "      <td>5.6</td>\n",
       "    </tr>\n",
       "    <tr>\n",
       "      <th>2</th>\n",
       "      <td>Audi A1</td>\n",
       "      <td>Sedans</td>\n",
       "      <td>14640</td>\n",
       "      <td>VAT deductible</td>\n",
       "      <td>83450.0</td>\n",
       "      <td>Used</td>\n",
       "      <td>Diesel</td>\n",
       "      <td>7.0</td>\n",
       "      <td>Air conditioning,Cruise control,Electrical sid...</td>\n",
       "      <td>MP3,On-board computer</td>\n",
       "      <td>...</td>\n",
       "      <td>1.0</td>\n",
       "      <td>85.0</td>\n",
       "      <td>0</td>\n",
       "      <td>Metallic</td>\n",
       "      <td>Cloth</td>\n",
       "      <td>Automatic</td>\n",
       "      <td>1598.0</td>\n",
       "      <td>1135.0</td>\n",
       "      <td>front</td>\n",
       "      <td>3.8</td>\n",
       "    </tr>\n",
       "    <tr>\n",
       "      <th>3</th>\n",
       "      <td>Audi A1</td>\n",
       "      <td>Sedans</td>\n",
       "      <td>14500</td>\n",
       "      <td>VAT deductible</td>\n",
       "      <td>73000.0</td>\n",
       "      <td>Used</td>\n",
       "      <td>Diesel</td>\n",
       "      <td>6.0</td>\n",
       "      <td>Air suspension,Armrest,Auxiliary heating,Elect...</td>\n",
       "      <td>Bluetooth,CD player,Hands-free equipment,MP3,O...</td>\n",
       "      <td>...</td>\n",
       "      <td>1.0</td>\n",
       "      <td>66.0</td>\n",
       "      <td>0</td>\n",
       "      <td>Metallic</td>\n",
       "      <td>Cloth</td>\n",
       "      <td>Automatic</td>\n",
       "      <td>1422.0</td>\n",
       "      <td>1195.0</td>\n",
       "      <td>front</td>\n",
       "      <td>3.8</td>\n",
       "    </tr>\n",
       "    <tr>\n",
       "      <th>4</th>\n",
       "      <td>Audi A1</td>\n",
       "      <td>Sedans</td>\n",
       "      <td>16790</td>\n",
       "      <td>VAT deductible</td>\n",
       "      <td>16200.0</td>\n",
       "      <td>Used</td>\n",
       "      <td>Diesel</td>\n",
       "      <td>7.0</td>\n",
       "      <td>Air conditioning,Armrest,Automatic climate con...</td>\n",
       "      <td>Bluetooth,CD player,Hands-free equipment,MP3,O...</td>\n",
       "      <td>...</td>\n",
       "      <td>1.0</td>\n",
       "      <td>66.0</td>\n",
       "      <td>1</td>\n",
       "      <td>Metallic</td>\n",
       "      <td>Cloth</td>\n",
       "      <td>Automatic</td>\n",
       "      <td>1422.0</td>\n",
       "      <td>1135.0</td>\n",
       "      <td>front</td>\n",
       "      <td>4.1</td>\n",
       "    </tr>\n",
       "  </tbody>\n",
       "</table>\n",
       "<p>5 rows × 23 columns</p>\n",
       "</div>"
      ],
      "text/plain": [
       "  make_model body_type  price               vat       km  Type     Fuel  \\\n",
       "0    Audi A1    Sedans  15770    VAT deductible  56013.0  Used   Diesel   \n",
       "1    Audi A1    Sedans  14500  Price negotiable  80000.0  Used  Benzine   \n",
       "2    Audi A1    Sedans  14640    VAT deductible  83450.0  Used   Diesel   \n",
       "3    Audi A1    Sedans  14500    VAT deductible  73000.0  Used   Diesel   \n",
       "4    Audi A1    Sedans  16790    VAT deductible  16200.0  Used   Diesel   \n",
       "\n",
       "   Gears                                Comfort_Convenience  \\\n",
       "0    7.0  Air conditioning,Armrest,Automatic climate con...   \n",
       "1    7.0  Air conditioning,Automatic climate control,Hil...   \n",
       "2    7.0  Air conditioning,Cruise control,Electrical sid...   \n",
       "3    6.0  Air suspension,Armrest,Auxiliary heating,Elect...   \n",
       "4    7.0  Air conditioning,Armrest,Automatic climate con...   \n",
       "\n",
       "                                 Entertainment_Media  ... Previous_Owners  \\\n",
       "0  Bluetooth,Hands-free equipment,On-board comput...  ...             2.0   \n",
       "1  Bluetooth,Hands-free equipment,On-board comput...  ...             1.0   \n",
       "2                              MP3,On-board computer  ...             1.0   \n",
       "3  Bluetooth,CD player,Hands-free equipment,MP3,O...  ...             1.0   \n",
       "4  Bluetooth,CD player,Hands-free equipment,MP3,O...  ...             1.0   \n",
       "\n",
       "   hp_kW  Inspection_new  Paint_Type  Upholstery_type  Gearing_Type  \\\n",
       "0   66.0               1    Metallic            Cloth     Automatic   \n",
       "1  141.0               0    Metallic            Cloth     Automatic   \n",
       "2   85.0               0    Metallic            Cloth     Automatic   \n",
       "3   66.0               0    Metallic            Cloth     Automatic   \n",
       "4   66.0               1    Metallic            Cloth     Automatic   \n",
       "\n",
       "  Displacement_cc Weight_kg Drive_chain  cons_comb  \n",
       "0          1422.0    1220.0       front        3.8  \n",
       "1          1798.0    1255.0       front        5.6  \n",
       "2          1598.0    1135.0       front        3.8  \n",
       "3          1422.0    1195.0       front        3.8  \n",
       "4          1422.0    1135.0       front        4.1  \n",
       "\n",
       "[5 rows x 23 columns]"
      ]
     },
     "execution_count": 8,
     "metadata": {},
     "output_type": "execute_result"
    }
   ],
   "source": [
    "df.head()"
   ]
  },
  {
   "cell_type": "code",
   "execution_count": 10,
   "id": "bebc6dde",
   "metadata": {
    "ExecuteTime": {
     "end_time": "2022-12-10T06:14:11.737712Z",
     "start_time": "2022-12-10T06:14:11.721726Z"
    }
   },
   "outputs": [
    {
     "data": {
      "text/html": [
       "<div>\n",
       "<style scoped>\n",
       "    .dataframe tbody tr th:only-of-type {\n",
       "        vertical-align: middle;\n",
       "    }\n",
       "\n",
       "    .dataframe tbody tr th {\n",
       "        vertical-align: top;\n",
       "    }\n",
       "\n",
       "    .dataframe thead th {\n",
       "        text-align: right;\n",
       "    }\n",
       "</style>\n",
       "<table border=\"1\" class=\"dataframe\">\n",
       "  <thead>\n",
       "    <tr style=\"text-align: right;\">\n",
       "      <th></th>\n",
       "      <th>make_model</th>\n",
       "      <th>body_type</th>\n",
       "      <th>vat</th>\n",
       "      <th>Type</th>\n",
       "      <th>Fuel</th>\n",
       "      <th>Comfort_Convenience</th>\n",
       "      <th>Entertainment_Media</th>\n",
       "      <th>Extras</th>\n",
       "      <th>Safety_Security</th>\n",
       "      <th>Paint_Type</th>\n",
       "      <th>Upholstery_type</th>\n",
       "      <th>Gearing_Type</th>\n",
       "      <th>Drive_chain</th>\n",
       "    </tr>\n",
       "  </thead>\n",
       "  <tbody>\n",
       "    <tr>\n",
       "      <th>0</th>\n",
       "      <td>Audi A1</td>\n",
       "      <td>Sedans</td>\n",
       "      <td>VAT deductible</td>\n",
       "      <td>Used</td>\n",
       "      <td>Diesel</td>\n",
       "      <td>Air conditioning,Armrest,Automatic climate con...</td>\n",
       "      <td>Bluetooth,Hands-free equipment,On-board comput...</td>\n",
       "      <td>Alloy wheels,Catalytic Converter,Voice Control</td>\n",
       "      <td>ABS,Central door lock,Daytime running lights,D...</td>\n",
       "      <td>Metallic</td>\n",
       "      <td>Cloth</td>\n",
       "      <td>Automatic</td>\n",
       "      <td>front</td>\n",
       "    </tr>\n",
       "    <tr>\n",
       "      <th>1</th>\n",
       "      <td>Audi A1</td>\n",
       "      <td>Sedans</td>\n",
       "      <td>Price negotiable</td>\n",
       "      <td>Used</td>\n",
       "      <td>Benzine</td>\n",
       "      <td>Air conditioning,Automatic climate control,Hil...</td>\n",
       "      <td>Bluetooth,Hands-free equipment,On-board comput...</td>\n",
       "      <td>Alloy wheels,Sport seats,Sport suspension,Voic...</td>\n",
       "      <td>ABS,Central door lock,Central door lock with r...</td>\n",
       "      <td>Metallic</td>\n",
       "      <td>Cloth</td>\n",
       "      <td>Automatic</td>\n",
       "      <td>front</td>\n",
       "    </tr>\n",
       "    <tr>\n",
       "      <th>2</th>\n",
       "      <td>Audi A1</td>\n",
       "      <td>Sedans</td>\n",
       "      <td>VAT deductible</td>\n",
       "      <td>Used</td>\n",
       "      <td>Diesel</td>\n",
       "      <td>Air conditioning,Cruise control,Electrical sid...</td>\n",
       "      <td>MP3,On-board computer</td>\n",
       "      <td>Alloy wheels,Voice Control</td>\n",
       "      <td>ABS,Central door lock,Daytime running lights,D...</td>\n",
       "      <td>Metallic</td>\n",
       "      <td>Cloth</td>\n",
       "      <td>Automatic</td>\n",
       "      <td>front</td>\n",
       "    </tr>\n",
       "    <tr>\n",
       "      <th>3</th>\n",
       "      <td>Audi A1</td>\n",
       "      <td>Sedans</td>\n",
       "      <td>VAT deductible</td>\n",
       "      <td>Used</td>\n",
       "      <td>Diesel</td>\n",
       "      <td>Air suspension,Armrest,Auxiliary heating,Elect...</td>\n",
       "      <td>Bluetooth,CD player,Hands-free equipment,MP3,O...</td>\n",
       "      <td>Alloy wheels,Sport seats,Voice Control</td>\n",
       "      <td>ABS,Alarm system,Central door lock with remote...</td>\n",
       "      <td>Metallic</td>\n",
       "      <td>Cloth</td>\n",
       "      <td>Automatic</td>\n",
       "      <td>front</td>\n",
       "    </tr>\n",
       "    <tr>\n",
       "      <th>4</th>\n",
       "      <td>Audi A1</td>\n",
       "      <td>Sedans</td>\n",
       "      <td>VAT deductible</td>\n",
       "      <td>Used</td>\n",
       "      <td>Diesel</td>\n",
       "      <td>Air conditioning,Armrest,Automatic climate con...</td>\n",
       "      <td>Bluetooth,CD player,Hands-free equipment,MP3,O...</td>\n",
       "      <td>Alloy wheels,Sport package,Sport suspension,Vo...</td>\n",
       "      <td>ABS,Central door lock,Driver-side airbag,Elect...</td>\n",
       "      <td>Metallic</td>\n",
       "      <td>Cloth</td>\n",
       "      <td>Automatic</td>\n",
       "      <td>front</td>\n",
       "    </tr>\n",
       "  </tbody>\n",
       "</table>\n",
       "</div>"
      ],
      "text/plain": [
       "  make_model body_type               vat  Type     Fuel  \\\n",
       "0    Audi A1    Sedans    VAT deductible  Used   Diesel   \n",
       "1    Audi A1    Sedans  Price negotiable  Used  Benzine   \n",
       "2    Audi A1    Sedans    VAT deductible  Used   Diesel   \n",
       "3    Audi A1    Sedans    VAT deductible  Used   Diesel   \n",
       "4    Audi A1    Sedans    VAT deductible  Used   Diesel   \n",
       "\n",
       "                                 Comfort_Convenience  \\\n",
       "0  Air conditioning,Armrest,Automatic climate con...   \n",
       "1  Air conditioning,Automatic climate control,Hil...   \n",
       "2  Air conditioning,Cruise control,Electrical sid...   \n",
       "3  Air suspension,Armrest,Auxiliary heating,Elect...   \n",
       "4  Air conditioning,Armrest,Automatic climate con...   \n",
       "\n",
       "                                 Entertainment_Media  \\\n",
       "0  Bluetooth,Hands-free equipment,On-board comput...   \n",
       "1  Bluetooth,Hands-free equipment,On-board comput...   \n",
       "2                              MP3,On-board computer   \n",
       "3  Bluetooth,CD player,Hands-free equipment,MP3,O...   \n",
       "4  Bluetooth,CD player,Hands-free equipment,MP3,O...   \n",
       "\n",
       "                                              Extras  \\\n",
       "0     Alloy wheels,Catalytic Converter,Voice Control   \n",
       "1  Alloy wheels,Sport seats,Sport suspension,Voic...   \n",
       "2                         Alloy wheels,Voice Control   \n",
       "3             Alloy wheels,Sport seats,Voice Control   \n",
       "4  Alloy wheels,Sport package,Sport suspension,Vo...   \n",
       "\n",
       "                                     Safety_Security Paint_Type  \\\n",
       "0  ABS,Central door lock,Daytime running lights,D...   Metallic   \n",
       "1  ABS,Central door lock,Central door lock with r...   Metallic   \n",
       "2  ABS,Central door lock,Daytime running lights,D...   Metallic   \n",
       "3  ABS,Alarm system,Central door lock with remote...   Metallic   \n",
       "4  ABS,Central door lock,Driver-side airbag,Elect...   Metallic   \n",
       "\n",
       "  Upholstery_type Gearing_Type Drive_chain  \n",
       "0           Cloth    Automatic       front  \n",
       "1           Cloth    Automatic       front  \n",
       "2           Cloth    Automatic       front  \n",
       "3           Cloth    Automatic       front  \n",
       "4           Cloth    Automatic       front  "
      ]
     },
     "execution_count": 10,
     "metadata": {},
     "output_type": "execute_result"
    }
   ],
   "source": [
    "df.select_dtypes(\"object\").head()"
   ]
  },
  {
   "cell_type": "code",
   "execution_count": 11,
   "id": "invisible-partnership",
   "metadata": {
    "ExecuteTime": {
     "end_time": "2022-12-10T06:14:11.753703Z",
     "start_time": "2022-12-10T06:14:11.737712Z"
    }
   },
   "outputs": [
    {
     "name": "stdout",
     "output_type": "stream",
     "text": [
      "make_model 9\n",
      "body_type 8\n",
      "vat 2\n",
      "Type 5\n",
      "Fuel 4\n",
      "Comfort_Convenience 6196\n",
      "Entertainment_Media 346\n",
      "Extras 659\n",
      "Safety_Security 4442\n",
      "Paint_Type 3\n",
      "Upholstery_type 2\n",
      "Gearing_Type 3\n",
      "Drive_chain 3\n"
     ]
    }
   ],
   "source": [
    "for i in df.select_dtypes(\"object\"):\n",
    "\n",
    "    print(i, len(df[i].value_counts()))"
   ]
  },
  {
   "cell_type": "code",
   "execution_count": 15,
   "id": "8e7af697",
   "metadata": {},
   "outputs": [
    {
     "name": "stdout",
     "output_type": "stream",
     "text": [
      "Number of Uniques:\n",
      "make_model                9\n",
      "body_type                 8\n",
      "vat                       2\n",
      "Type                      5\n",
      "Fuel                      4\n",
      "Comfort_Convenience    6196\n",
      "Entertainment_Media     346\n",
      "Extras                  659\n",
      "Safety_Security        4442\n",
      "Paint_Type                3\n",
      "Upholstery_type           2\n",
      "Gearing_Type              3\n",
      "Drive_chain               3\n",
      "dtype: int64\n",
      "\n"
     ]
    }
   ],
   "source": [
    "print(\"Number of Uniques:\\n\", df.select_dtypes('object').nunique(),'\\n', sep='')"
   ]
  },
  {
   "cell_type": "code",
   "execution_count": 16,
   "id": "3342f957",
   "metadata": {
    "ExecuteTime": {
     "end_time": "2022-12-10T06:14:12.266195Z",
     "start_time": "2022-12-10T06:14:11.809712Z"
    }
   },
   "outputs": [
    {
     "data": {
      "text/plain": [
       "<AxesSubplot: xlabel='price', ylabel='Count'>"
      ]
     },
     "execution_count": 16,
     "metadata": {},
     "output_type": "execute_result"
    },
    {
     "data": {
      "image/png": "[encoded data removed]",
      "text/plain": [
       "<Figure size 800x400 with 1 Axes>"
      ]
     },
     "metadata": {},
     "output_type": "display_data"
    }
   ],
   "source": [
    "sns.histplot(df.price, bins=50, kde=True)\n",
    "\n",
    "# tree based modeller outlierlara karşı çok robustdur(güçlüdür). Ancak küçük regression datalarında bu durum geçerli değildir.\n",
    "# Küçük regression datalarında outlier dağerler düştüğü yapraklardaki ortalama fiyatları ciddi şekilde yükseltebiliğinden veya \n",
    "# azaltabildiğinden eğitim için yetersiz olan bu outlier gözlemleri düşürmek tree based modellerde önem arzediyor.\n",
    "\n",
    "# Ancak her zaman olduğu gibi hem outlierlar ile hem de outlierları düşürerek skorları karşılaştırıp farklarını görmeliyiz."
   ]
  },
  {
   "cell_type": "code",
   "execution_count": 18,
   "id": "e707750e",
   "metadata": {
    "ExecuteTime": {
     "end_time": "2022-12-10T06:14:12.346179Z",
     "start_time": "2022-12-10T06:14:12.266195Z"
    }
   },
   "outputs": [
    {
     "data": {
      "text/plain": [
       "<AxesSubplot: >"
      ]
     },
     "execution_count": 18,
     "metadata": {},
     "output_type": "execute_result"
    },
    {
     "data": {
      "image/png": "[encoded data removed]",
      "text/plain": [
       "<Figure size 800x400 with 1 Axes>"
      ]
     },
     "metadata": {},
     "output_type": "display_data"
    }
   ],
   "source": [
    "sns.boxplot(df.price)"
   ]
  },
  {
   "cell_type": "code",
   "execution_count": 18,
   "id": "appropriate-field",
   "metadata": {
    "ExecuteTime": {
     "end_time": "2022-12-10T06:14:12.354154Z",
     "start_time": "2022-12-10T06:14:12.346179Z"
    }
   },
   "outputs": [],
   "source": [
    "df2 = df.copy()"
   ]
  },
  {
   "cell_type": "code",
   "execution_count": 19,
   "id": "da084c11",
   "metadata": {},
   "outputs": [
    {
     "data": {
      "text/html": [
       "<div>\n",
       "<style scoped>\n",
       "    .dataframe tbody tr th:only-of-type {\n",
       "        vertical-align: middle;\n",
       "    }\n",
       "\n",
       "    .dataframe tbody tr th {\n",
       "        vertical-align: top;\n",
       "    }\n",
       "\n",
       "    .dataframe thead th {\n",
       "        text-align: right;\n",
       "    }\n",
       "</style>\n",
       "<table border=\"1\" class=\"dataframe\">\n",
       "  <thead>\n",
       "    <tr style=\"text-align: right;\">\n",
       "      <th></th>\n",
       "      <th>price</th>\n",
       "      <th>km</th>\n",
       "      <th>Gears</th>\n",
       "      <th>age</th>\n",
       "      <th>Previous_Owners</th>\n",
       "      <th>hp_kW</th>\n",
       "      <th>Inspection_new</th>\n",
       "      <th>Displacement_cc</th>\n",
       "      <th>Weight_kg</th>\n",
       "      <th>cons_comb</th>\n",
       "    </tr>\n",
       "  </thead>\n",
       "  <tbody>\n",
       "    <tr>\n",
       "      <th>min</th>\n",
       "      <td>4950</td>\n",
       "      <td>0.0</td>\n",
       "      <td>5.0</td>\n",
       "      <td>0.0</td>\n",
       "      <td>0.0</td>\n",
       "      <td>40.0</td>\n",
       "      <td>0</td>\n",
       "      <td>890.0</td>\n",
       "      <td>840.0</td>\n",
       "      <td>3.0</td>\n",
       "    </tr>\n",
       "    <tr>\n",
       "      <th>max</th>\n",
       "      <td>74600</td>\n",
       "      <td>317000.0</td>\n",
       "      <td>8.0</td>\n",
       "      <td>3.0</td>\n",
       "      <td>4.0</td>\n",
       "      <td>294.0</td>\n",
       "      <td>1</td>\n",
       "      <td>2967.0</td>\n",
       "      <td>2471.0</td>\n",
       "      <td>9.1</td>\n",
       "    </tr>\n",
       "  </tbody>\n",
       "</table>\n",
       "</div>"
      ],
      "text/plain": [
       "     price        km  Gears  age  Previous_Owners  hp_kW  Inspection_new  \\\n",
       "min   4950       0.0    5.0  0.0              0.0   40.0               0   \n",
       "max  74600  317000.0    8.0  3.0              4.0  294.0               1   \n",
       "\n",
       "     Displacement_cc  Weight_kg  cons_comb  \n",
       "min            890.0      840.0        3.0  \n",
       "max           2967.0     2471.0        9.1  "
      ]
     },
     "execution_count": 19,
     "metadata": {},
     "output_type": "execute_result"
    }
   ],
   "source": [
    "pd.DataFrame(df.select_dtypes('number').agg(['min', 'max']))"
   ]
  },
  {
   "cell_type": "code",
   "execution_count": 20,
   "id": "75a31715",
   "metadata": {},
   "outputs": [
    {
     "data": {
      "text/plain": [
       "Audi A3           3097\n",
       "Audi A1           2614\n",
       "Opel Insignia     2598\n",
       "Opel Astra        2525\n",
       "Opel Corsa        2216\n",
       "Renault Clio      1839\n",
       "Renault Espace     991\n",
       "Renault Duster      34\n",
       "Audi A2              1\n",
       "Name: make_model, dtype: int64"
      ]
     },
     "execution_count": 20,
     "metadata": {},
     "output_type": "execute_result"
    }
   ],
   "source": [
    "df.make_model.value_counts()"
   ]
  },
  {
   "cell_type": "code",
   "execution_count": 21,
   "id": "2998908e",
   "metadata": {},
   "outputs": [
    {
     "data": {
      "text/html": [
       "<div>\n",
       "<style scoped>\n",
       "    .dataframe tbody tr th:only-of-type {\n",
       "        vertical-align: middle;\n",
       "    }\n",
       "\n",
       "    .dataframe tbody tr th {\n",
       "        vertical-align: top;\n",
       "    }\n",
       "\n",
       "    .dataframe thead th {\n",
       "        text-align: right;\n",
       "    }\n",
       "</style>\n",
       "<table border=\"1\" class=\"dataframe\">\n",
       "  <thead>\n",
       "    <tr style=\"text-align: right;\">\n",
       "      <th></th>\n",
       "      <th>make_model</th>\n",
       "      <th>body_type</th>\n",
       "      <th>price</th>\n",
       "      <th>vat</th>\n",
       "      <th>km</th>\n",
       "      <th>Type</th>\n",
       "      <th>Fuel</th>\n",
       "      <th>Gears</th>\n",
       "      <th>Comfort_Convenience</th>\n",
       "      <th>Entertainment_Media</th>\n",
       "      <th>...</th>\n",
       "      <th>Previous_Owners</th>\n",
       "      <th>hp_kW</th>\n",
       "      <th>Inspection_new</th>\n",
       "      <th>Paint_Type</th>\n",
       "      <th>Upholstery_type</th>\n",
       "      <th>Gearing_Type</th>\n",
       "      <th>Displacement_cc</th>\n",
       "      <th>Weight_kg</th>\n",
       "      <th>Drive_chain</th>\n",
       "      <th>cons_comb</th>\n",
       "    </tr>\n",
       "  </thead>\n",
       "  <tbody>\n",
       "    <tr>\n",
       "      <th>2614</th>\n",
       "      <td>Audi A2</td>\n",
       "      <td>Off-Road</td>\n",
       "      <td>28200</td>\n",
       "      <td>VAT deductible</td>\n",
       "      <td>26166.0</td>\n",
       "      <td>Employee's car</td>\n",
       "      <td>Diesel</td>\n",
       "      <td>6.0</td>\n",
       "      <td>Air conditioning,Armrest,Automatic climate con...</td>\n",
       "      <td>Bluetooth,CD player,Hands-free equipment,MP3,O...</td>\n",
       "      <td>...</td>\n",
       "      <td>1.0</td>\n",
       "      <td>85.0</td>\n",
       "      <td>0</td>\n",
       "      <td>Metallic</td>\n",
       "      <td>Cloth</td>\n",
       "      <td>Manual</td>\n",
       "      <td>1598.0</td>\n",
       "      <td>1135.0</td>\n",
       "      <td>front</td>\n",
       "      <td>4.9</td>\n",
       "    </tr>\n",
       "  </tbody>\n",
       "</table>\n",
       "<p>1 rows × 23 columns</p>\n",
       "</div>"
      ],
      "text/plain": [
       "     make_model body_type  price             vat       km            Type  \\\n",
       "2614    Audi A2  Off-Road  28200  VAT deductible  26166.0  Employee's car   \n",
       "\n",
       "        Fuel  Gears                                Comfort_Convenience  \\\n",
       "2614  Diesel    6.0  Air conditioning,Armrest,Automatic climate con...   \n",
       "\n",
       "                                    Entertainment_Media  ... Previous_Owners  \\\n",
       "2614  Bluetooth,CD player,Hands-free equipment,MP3,O...  ...             1.0   \n",
       "\n",
       "     hp_kW  Inspection_new  Paint_Type  Upholstery_type  Gearing_Type  \\\n",
       "2614  85.0               0    Metallic            Cloth        Manual   \n",
       "\n",
       "     Displacement_cc Weight_kg Drive_chain  cons_comb  \n",
       "2614          1598.0    1135.0       front        4.9  \n",
       "\n",
       "[1 rows x 23 columns]"
      ]
     },
     "execution_count": 21,
     "metadata": {},
     "output_type": "execute_result"
    }
   ],
   "source": [
    "df[df.make_model==\"Audi A2\"]"
   ]
  },
  {
   "cell_type": "code",
   "execution_count": 22,
   "id": "561f0658",
   "metadata": {},
   "outputs": [],
   "source": [
    "df.drop(index=[2614], inplace =True)"
   ]
  },
  {
   "cell_type": "code",
   "execution_count": 23,
   "id": "48998bf5",
   "metadata": {},
   "outputs": [
    {
     "data": {
      "text/plain": [
       "array(['Audi A1', 'Audi A3', 'Opel Astra', 'Opel Corsa', 'Opel Insignia',\n",
       "       'Renault Clio', 'Renault Duster', 'Renault Espace'], dtype=object)"
      ]
     },
     "execution_count": 23,
     "metadata": {},
     "output_type": "execute_result"
    }
   ],
   "source": [
    "df.make_model.unique()"
   ]
  },
  {
   "cell_type": "code",
   "execution_count": 24,
   "id": "35058189",
   "metadata": {},
   "outputs": [],
   "source": [
    "new_list=[\"age\", \"hp_kW\", \"km\", \"Gearing_Type\", 'make_model']"
   ]
  },
  {
   "cell_type": "markdown",
   "id": "swiss-respondent",
   "metadata": {},
   "source": [
    "## Train test split"
   ]
  },
  {
   "cell_type": "code",
   "execution_count": 25,
   "id": "every-turtle",
   "metadata": {
    "ExecuteTime": {
     "end_time": "2022-12-10T06:14:12.370115Z",
     "start_time": "2022-12-10T06:14:12.354154Z"
    }
   },
   "outputs": [],
   "source": [
    "X=df[new_list]\n",
    "y=df['price']"
   ]
  },
  {
   "cell_type": "code",
   "execution_count": 26,
   "id": "ed6e525a",
   "metadata": {
    "ExecuteTime": {
     "end_time": "2022-12-10T06:14:12.714449Z",
     "start_time": "2022-12-10T06:14:12.370115Z"
    }
   },
   "outputs": [
    {
     "name": "stdout",
     "output_type": "stream",
     "text": [
      "Train features shape :  (12731, 5)\n",
      "Train target shape   :  (12731,)\n",
      "Test features shape  :  (3183, 5)\n",
      "Test target shape    :  (3183,)\n"
     ]
    }
   ],
   "source": [
    "from sklearn.model_selection import train_test_split\n",
    "\n",
    "X_train, X_test, y_train, y_test = train_test_split(X, y, test_size=0.2, random_state=5)\n",
    "\n",
    "print(\"Train features shape : \", X_train.shape)\n",
    "print(\"Train target shape   : \", y_train.shape)\n",
    "print(\"Test features shape  : \", X_test.shape)\n",
    "print(\"Test target shape    : \", y_test.shape)"
   ]
  },
  {
   "cell_type": "markdown",
   "id": "380d5797",
   "metadata": {},
   "source": [
    "## OrdinalEncoder and Categoric Variable"
   ]
  },
  {
   "cell_type": "code",
   "execution_count": 27,
   "id": "66bf24c5",
   "metadata": {
    "ExecuteTime": {
     "end_time": "2022-12-10T06:14:12.730421Z",
     "start_time": "2022-12-10T06:14:12.714449Z"
    }
   },
   "outputs": [
    {
     "data": {
      "text/plain": [
       "Index(['Gearing_Type', 'make_model'], dtype='object')"
      ]
     },
     "execution_count": 27,
     "metadata": {},
     "output_type": "execute_result"
    }
   ],
   "source": [
    "cat = X_train.select_dtypes(\"object\").columns\n",
    "cat"
   ]
  },
  {
   "cell_type": "code",
   "execution_count": 28,
   "id": "5f54777b",
   "metadata": {
    "ExecuteTime": {
     "end_time": "2022-12-10T06:14:12.754402Z",
     "start_time": "2022-12-10T06:14:12.730421Z"
    },
    "scrolled": true
   },
   "outputs": [
    {
     "data": {
      "text/html": [
       "<div>\n",
       "<style scoped>\n",
       "    .dataframe tbody tr th:only-of-type {\n",
       "        vertical-align: middle;\n",
       "    }\n",
       "\n",
       "    .dataframe tbody tr th {\n",
       "        vertical-align: top;\n",
       "    }\n",
       "\n",
       "    .dataframe thead th {\n",
       "        text-align: right;\n",
       "    }\n",
       "</style>\n",
       "<table border=\"1\" class=\"dataframe\">\n",
       "  <thead>\n",
       "    <tr style=\"text-align: right;\">\n",
       "      <th></th>\n",
       "      <th>Gearing_Type</th>\n",
       "      <th>make_model</th>\n",
       "    </tr>\n",
       "  </thead>\n",
       "  <tbody>\n",
       "    <tr>\n",
       "      <th>15426</th>\n",
       "      <td>Automatic</td>\n",
       "      <td>Renault Espace</td>\n",
       "    </tr>\n",
       "    <tr>\n",
       "      <th>8762</th>\n",
       "      <td>Manual</td>\n",
       "      <td>Opel Corsa</td>\n",
       "    </tr>\n",
       "    <tr>\n",
       "      <th>9397</th>\n",
       "      <td>Manual</td>\n",
       "      <td>Opel Corsa</td>\n",
       "    </tr>\n",
       "    <tr>\n",
       "      <th>10961</th>\n",
       "      <td>Manual</td>\n",
       "      <td>Opel Insignia</td>\n",
       "    </tr>\n",
       "    <tr>\n",
       "      <th>11405</th>\n",
       "      <td>Automatic</td>\n",
       "      <td>Opel Insignia</td>\n",
       "    </tr>\n",
       "    <tr>\n",
       "      <th>...</th>\n",
       "      <td>...</td>\n",
       "      <td>...</td>\n",
       "    </tr>\n",
       "    <tr>\n",
       "      <th>3047</th>\n",
       "      <td>Manual</td>\n",
       "      <td>Audi A3</td>\n",
       "    </tr>\n",
       "    <tr>\n",
       "      <th>9918</th>\n",
       "      <td>Automatic</td>\n",
       "      <td>Opel Corsa</td>\n",
       "    </tr>\n",
       "    <tr>\n",
       "      <th>4080</th>\n",
       "      <td>Manual</td>\n",
       "      <td>Audi A3</td>\n",
       "    </tr>\n",
       "    <tr>\n",
       "      <th>2254</th>\n",
       "      <td>Manual</td>\n",
       "      <td>Audi A1</td>\n",
       "    </tr>\n",
       "    <tr>\n",
       "      <th>2916</th>\n",
       "      <td>Automatic</td>\n",
       "      <td>Audi A3</td>\n",
       "    </tr>\n",
       "  </tbody>\n",
       "</table>\n",
       "<p>12731 rows × 2 columns</p>\n",
       "</div>"
      ],
      "text/plain": [
       "      Gearing_Type      make_model\n",
       "15426    Automatic  Renault Espace\n",
       "8762        Manual      Opel Corsa\n",
       "9397        Manual      Opel Corsa\n",
       "10961       Manual   Opel Insignia\n",
       "11405    Automatic   Opel Insignia\n",
       "...            ...             ...\n",
       "3047        Manual         Audi A3\n",
       "9918     Automatic      Opel Corsa\n",
       "4080        Manual         Audi A3\n",
       "2254        Manual         Audi A1\n",
       "2916     Automatic         Audi A3\n",
       "\n",
       "[12731 rows x 2 columns]"
      ]
     },
     "execution_count": 28,
     "metadata": {},
     "output_type": "execute_result"
    }
   ],
   "source": [
    "X_train[cat]"
   ]
  },
  {
   "cell_type": "code",
   "execution_count": 29,
   "id": "4659c531",
   "metadata": {
    "ExecuteTime": {
     "end_time": "2022-12-10T06:14:12.770345Z",
     "start_time": "2022-12-10T06:14:12.754402Z"
    }
   },
   "outputs": [
    {
     "data": {
      "text/plain": [
       "array([[0., 7.],\n",
       "       [1., 3.],\n",
       "       [1., 3.],\n",
       "       ...,\n",
       "       [1., 1.],\n",
       "       [1., 0.],\n",
       "       [0., 1.]])"
      ]
     },
     "execution_count": 29,
     "metadata": {},
     "output_type": "execute_result"
    }
   ],
   "source": [
    "from sklearn.preprocessing import OrdinalEncoder\n",
    "\n",
    "enc = OrdinalEncoder()\n",
    "enc.fit_transform(X_train[cat])"
   ]
  },
  {
   "cell_type": "code",
   "execution_count": 30,
   "id": "f601a497",
   "metadata": {
    "ExecuteTime": {
     "end_time": "2022-12-10T06:14:12.786344Z",
     "start_time": "2022-12-10T06:14:12.770345Z"
    }
   },
   "outputs": [],
   "source": [
    "X_train[cat] = enc.fit_transform(X_train[cat])"
   ]
  },
  {
   "cell_type": "code",
   "execution_count": 31,
   "id": "3ca06d3f",
   "metadata": {
    "ExecuteTime": {
     "end_time": "2022-12-10T06:14:12.802362Z",
     "start_time": "2022-12-10T06:14:12.786344Z"
    }
   },
   "outputs": [
    {
     "data": {
      "text/html": [
       "<div>\n",
       "<style scoped>\n",
       "    .dataframe tbody tr th:only-of-type {\n",
       "        vertical-align: middle;\n",
       "    }\n",
       "\n",
       "    .dataframe tbody tr th {\n",
       "        vertical-align: top;\n",
       "    }\n",
       "\n",
       "    .dataframe thead th {\n",
       "        text-align: right;\n",
       "    }\n",
       "</style>\n",
       "<table border=\"1\" class=\"dataframe\">\n",
       "  <thead>\n",
       "    <tr style=\"text-align: right;\">\n",
       "      <th></th>\n",
       "      <th>age</th>\n",
       "      <th>hp_kW</th>\n",
       "      <th>km</th>\n",
       "      <th>Gearing_Type</th>\n",
       "      <th>make_model</th>\n",
       "    </tr>\n",
       "  </thead>\n",
       "  <tbody>\n",
       "    <tr>\n",
       "      <th>15426</th>\n",
       "      <td>1.0</td>\n",
       "      <td>118.0</td>\n",
       "      <td>18035.130067</td>\n",
       "      <td>0.0</td>\n",
       "      <td>7.0</td>\n",
       "    </tr>\n",
       "    <tr>\n",
       "      <th>8762</th>\n",
       "      <td>3.0</td>\n",
       "      <td>51.0</td>\n",
       "      <td>96800.000000</td>\n",
       "      <td>1.0</td>\n",
       "      <td>3.0</td>\n",
       "    </tr>\n",
       "    <tr>\n",
       "      <th>9397</th>\n",
       "      <td>2.0</td>\n",
       "      <td>66.0</td>\n",
       "      <td>35427.000000</td>\n",
       "      <td>1.0</td>\n",
       "      <td>3.0</td>\n",
       "    </tr>\n",
       "    <tr>\n",
       "      <th>10961</th>\n",
       "      <td>2.0</td>\n",
       "      <td>100.0</td>\n",
       "      <td>93165.000000</td>\n",
       "      <td>1.0</td>\n",
       "      <td>4.0</td>\n",
       "    </tr>\n",
       "    <tr>\n",
       "      <th>11405</th>\n",
       "      <td>2.0</td>\n",
       "      <td>100.0</td>\n",
       "      <td>30000.000000</td>\n",
       "      <td>0.0</td>\n",
       "      <td>4.0</td>\n",
       "    </tr>\n",
       "  </tbody>\n",
       "</table>\n",
       "</div>"
      ],
      "text/plain": [
       "       age  hp_kW            km  Gearing_Type  make_model\n",
       "15426  1.0  118.0  18035.130067           0.0         7.0\n",
       "8762   3.0   51.0  96800.000000           1.0         3.0\n",
       "9397   2.0   66.0  35427.000000           1.0         3.0\n",
       "10961  2.0  100.0  93165.000000           1.0         4.0\n",
       "11405  2.0  100.0  30000.000000           0.0         4.0"
      ]
     },
     "execution_count": 31,
     "metadata": {},
     "output_type": "execute_result"
    }
   ],
   "source": [
    "X_train.head()"
   ]
  },
  {
   "cell_type": "code",
   "execution_count": 32,
   "id": "ddce4d23",
   "metadata": {
    "ExecuteTime": {
     "end_time": "2022-12-10T06:14:12.818392Z",
     "start_time": "2022-12-10T06:14:12.802362Z"
    }
   },
   "outputs": [],
   "source": [
    "X_test[cat]=enc.transform(X_test[cat])"
   ]
  },
  {
   "cell_type": "code",
   "execution_count": 33,
   "id": "f7ee9446",
   "metadata": {
    "ExecuteTime": {
     "end_time": "2022-12-10T06:14:12.834410Z",
     "start_time": "2022-12-10T06:14:12.818392Z"
    }
   },
   "outputs": [
    {
     "data": {
      "text/html": [
       "<div>\n",
       "<style scoped>\n",
       "    .dataframe tbody tr th:only-of-type {\n",
       "        vertical-align: middle;\n",
       "    }\n",
       "\n",
       "    .dataframe tbody tr th {\n",
       "        vertical-align: top;\n",
       "    }\n",
       "\n",
       "    .dataframe thead th {\n",
       "        text-align: right;\n",
       "    }\n",
       "</style>\n",
       "<table border=\"1\" class=\"dataframe\">\n",
       "  <thead>\n",
       "    <tr style=\"text-align: right;\">\n",
       "      <th></th>\n",
       "      <th>age</th>\n",
       "      <th>hp_kW</th>\n",
       "      <th>km</th>\n",
       "      <th>Gearing_Type</th>\n",
       "      <th>make_model</th>\n",
       "    </tr>\n",
       "  </thead>\n",
       "  <tbody>\n",
       "    <tr>\n",
       "      <th>13664</th>\n",
       "      <td>3.0</td>\n",
       "      <td>65.0</td>\n",
       "      <td>162960.000000</td>\n",
       "      <td>1.0</td>\n",
       "      <td>5.0</td>\n",
       "    </tr>\n",
       "    <tr>\n",
       "      <th>14105</th>\n",
       "      <td>0.0</td>\n",
       "      <td>56.0</td>\n",
       "      <td>1647.362609</td>\n",
       "      <td>1.0</td>\n",
       "      <td>5.0</td>\n",
       "    </tr>\n",
       "    <tr>\n",
       "      <th>9468</th>\n",
       "      <td>2.0</td>\n",
       "      <td>66.0</td>\n",
       "      <td>52000.000000</td>\n",
       "      <td>1.0</td>\n",
       "      <td>3.0</td>\n",
       "    </tr>\n",
       "    <tr>\n",
       "      <th>3527</th>\n",
       "      <td>3.0</td>\n",
       "      <td>81.0</td>\n",
       "      <td>55000.000000</td>\n",
       "      <td>1.0</td>\n",
       "      <td>1.0</td>\n",
       "    </tr>\n",
       "    <tr>\n",
       "      <th>6699</th>\n",
       "      <td>1.0</td>\n",
       "      <td>100.0</td>\n",
       "      <td>10000.000000</td>\n",
       "      <td>0.0</td>\n",
       "      <td>2.0</td>\n",
       "    </tr>\n",
       "  </tbody>\n",
       "</table>\n",
       "</div>"
      ],
      "text/plain": [
       "       age  hp_kW             km  Gearing_Type  make_model\n",
       "13664  3.0   65.0  162960.000000           1.0         5.0\n",
       "14105  0.0   56.0    1647.362609           1.0         5.0\n",
       "9468   2.0   66.0   52000.000000           1.0         3.0\n",
       "3527   3.0   81.0   55000.000000           1.0         1.0\n",
       "6699   1.0  100.0   10000.000000           0.0         2.0"
      ]
     },
     "execution_count": 33,
     "metadata": {},
     "output_type": "execute_result"
    }
   ],
   "source": [
    "X_test.head()"
   ]
  },
  {
   "cell_type": "markdown",
   "id": "optional-filing",
   "metadata": {},
   "source": [
    "## Modeling with Pipeline"
   ]
  },
  {
   "cell_type": "code",
   "execution_count": 34,
   "id": "7c1f9c22",
   "metadata": {
    "ExecuteTime": {
     "end_time": "2022-12-10T06:14:12.850344Z",
     "start_time": "2022-12-10T06:14:12.834410Z"
    }
   },
   "outputs": [],
   "source": [
    "X_train, X_test, y_train, y_test = train_test_split(X, y, test_size=0.2, random_state=5)"
   ]
  },
  {
   "cell_type": "code",
   "execution_count": 35,
   "id": "a75ffebb",
   "metadata": {
    "ExecuteTime": {
     "end_time": "2022-12-10T06:14:12.874335Z",
     "start_time": "2022-12-10T06:14:12.850344Z"
    }
   },
   "outputs": [
    {
     "data": {
      "text/html": [
       "<div>\n",
       "<style scoped>\n",
       "    .dataframe tbody tr th:only-of-type {\n",
       "        vertical-align: middle;\n",
       "    }\n",
       "\n",
       "    .dataframe tbody tr th {\n",
       "        vertical-align: top;\n",
       "    }\n",
       "\n",
       "    .dataframe thead th {\n",
       "        text-align: right;\n",
       "    }\n",
       "</style>\n",
       "<table border=\"1\" class=\"dataframe\">\n",
       "  <thead>\n",
       "    <tr style=\"text-align: right;\">\n",
       "      <th></th>\n",
       "      <th>age</th>\n",
       "      <th>hp_kW</th>\n",
       "      <th>km</th>\n",
       "      <th>Gearing_Type</th>\n",
       "      <th>make_model</th>\n",
       "    </tr>\n",
       "  </thead>\n",
       "  <tbody>\n",
       "    <tr>\n",
       "      <th>15426</th>\n",
       "      <td>1.0</td>\n",
       "      <td>118.0</td>\n",
       "      <td>18035.130067</td>\n",
       "      <td>Automatic</td>\n",
       "      <td>Renault Espace</td>\n",
       "    </tr>\n",
       "    <tr>\n",
       "      <th>8762</th>\n",
       "      <td>3.0</td>\n",
       "      <td>51.0</td>\n",
       "      <td>96800.000000</td>\n",
       "      <td>Manual</td>\n",
       "      <td>Opel Corsa</td>\n",
       "    </tr>\n",
       "  </tbody>\n",
       "</table>\n",
       "</div>"
      ],
      "text/plain": [
       "       age  hp_kW            km Gearing_Type      make_model\n",
       "15426  1.0  118.0  18035.130067    Automatic  Renault Espace\n",
       "8762   3.0   51.0  96800.000000       Manual      Opel Corsa"
      ]
     },
     "execution_count": 35,
     "metadata": {},
     "output_type": "execute_result"
    }
   ],
   "source": [
    "X_train.head(2)"
   ]
  },
  {
   "cell_type": "code",
   "execution_count": 36,
   "id": "3f1f067c",
   "metadata": {
    "ExecuteTime": {
     "end_time": "2022-12-10T06:14:12.898364Z",
     "start_time": "2022-12-10T06:14:12.874335Z"
    }
   },
   "outputs": [
    {
     "data": {
      "text/html": [
       "<div>\n",
       "<style scoped>\n",
       "    .dataframe tbody tr th:only-of-type {\n",
       "        vertical-align: middle;\n",
       "    }\n",
       "\n",
       "    .dataframe tbody tr th {\n",
       "        vertical-align: top;\n",
       "    }\n",
       "\n",
       "    .dataframe thead th {\n",
       "        text-align: right;\n",
       "    }\n",
       "</style>\n",
       "<table border=\"1\" class=\"dataframe\">\n",
       "  <thead>\n",
       "    <tr style=\"text-align: right;\">\n",
       "      <th></th>\n",
       "      <th>age</th>\n",
       "      <th>hp_kW</th>\n",
       "      <th>km</th>\n",
       "      <th>Gearing_Type</th>\n",
       "      <th>make_model</th>\n",
       "    </tr>\n",
       "  </thead>\n",
       "  <tbody>\n",
       "    <tr>\n",
       "      <th>13664</th>\n",
       "      <td>3.0</td>\n",
       "      <td>65.0</td>\n",
       "      <td>162960.000000</td>\n",
       "      <td>Manual</td>\n",
       "      <td>Renault Clio</td>\n",
       "    </tr>\n",
       "    <tr>\n",
       "      <th>14105</th>\n",
       "      <td>0.0</td>\n",
       "      <td>56.0</td>\n",
       "      <td>1647.362609</td>\n",
       "      <td>Manual</td>\n",
       "      <td>Renault Clio</td>\n",
       "    </tr>\n",
       "  </tbody>\n",
       "</table>\n",
       "</div>"
      ],
      "text/plain": [
       "       age  hp_kW             km Gearing_Type    make_model\n",
       "13664  3.0   65.0  162960.000000       Manual  Renault Clio\n",
       "14105  0.0   56.0    1647.362609       Manual  Renault Clio"
      ]
     },
     "execution_count": 36,
     "metadata": {},
     "output_type": "execute_result"
    }
   ],
   "source": [
    "X_test.head(2)"
   ]
  },
  {
   "cell_type": "code",
   "execution_count": 37,
   "id": "e2e70e0e",
   "metadata": {
    "ExecuteTime": {
     "end_time": "2022-12-10T06:14:12.930392Z",
     "start_time": "2022-12-10T06:14:12.898364Z"
    }
   },
   "outputs": [],
   "source": [
    "from sklearn.compose import make_column_transformer\n",
    "from sklearn.preprocessing import OrdinalEncoder\n",
    "\n",
    "\n",
    "ord_enc = OrdinalEncoder(handle_unknown='use_encoded_value', unknown_value=-1)\n",
    "\n",
    "column_trans = make_column_transformer((ord_enc, cat), remainder='passthrough')\n",
    "\n",
    "# classification notebokunda yaptığımız işlemleri aynen tekrarlıyoruz.#"
   ]
  },
  {
   "cell_type": "code",
   "execution_count": 38,
   "id": "34c962d3",
   "metadata": {
    "ExecuteTime": {
     "end_time": "2022-12-10T06:14:13.202332Z",
     "start_time": "2022-12-10T06:14:12.930392Z"
    }
   },
   "outputs": [
    {
     "data": {
      "text/html": [
       "<style>#sk-container-id-1 {color: black;background-color: white;}#sk-container-id-1 pre{padding: 0;}#sk-container-id-1 div.sk-toggleable {background-color: white;}#sk-container-id-1 label.sk-toggleable__label {cursor: pointer;display: block;width: 100%;margin-bottom: 0;padding: 0.3em;box-sizing: border-box;text-align: center;}#sk-container-id-1 label.sk-toggleable__label-arrow:before {content: \"▸\";float: left;margin-right: 0.25em;color: #696969;}#sk-container-id-1 label.sk-toggleable__label-arrow:hover:before {color: black;}#sk-container-id-1 div.sk-estimator:hover label.sk-toggleable__label-arrow:before {color: black;}#sk-container-id-1 div.sk-toggleable__content {max-height: 0;max-width: 0;overflow: hidden;text-align: left;background-color: #f0f8ff;}#sk-container-id-1 div.sk-toggleable__content pre {margin: 0.2em;color: black;border-radius: 0.25em;background-color: #f0f8ff;}#sk-container-id-1 input.sk-toggleable__control:checked~div.sk-toggleable__content {max-height: 200px;max-width: 100%;overflow: auto;}#sk-container-id-1 input.sk-toggleable__control:checked~label.sk-toggleable__label-arrow:before {content: \"▾\";}#sk-container-id-1 div.sk-estimator input.sk-toggleable__control:checked~label.sk-toggleable__label {background-color: #d4ebff;}#sk-container-id-1 div.sk-label input.sk-toggleable__control:checked~label.sk-toggleable__label {background-color: #d4ebff;}#sk-container-id-1 input.sk-hidden--visually {border: 0;clip: rect(1px 1px 1px 1px);clip: rect(1px, 1px, 1px, 1px);height: 1px;margin: -1px;overflow: hidden;padding: 0;position: absolute;width: 1px;}#sk-container-id-1 div.sk-estimator {font-family: monospace;background-color: #f0f8ff;border: 1px dotted black;border-radius: 0.25em;box-sizing: border-box;margin-bottom: 0.5em;}#sk-container-id-1 div.sk-estimator:hover {background-color: #d4ebff;}#sk-container-id-1 div.sk-parallel-item::after {content: \"\";width: 100%;border-bottom: 1px solid gray;flex-grow: 1;}#sk-container-id-1 div.sk-label:hover label.sk-toggleable__label {background-color: #d4ebff;}#sk-container-id-1 div.sk-serial::before {content: \"\";position: absolute;border-left: 1px solid gray;box-sizing: border-box;top: 0;bottom: 0;left: 50%;z-index: 0;}#sk-container-id-1 div.sk-serial {display: flex;flex-direction: column;align-items: center;background-color: white;padding-right: 0.2em;padding-left: 0.2em;position: relative;}#sk-container-id-1 div.sk-item {position: relative;z-index: 1;}#sk-container-id-1 div.sk-parallel {display: flex;align-items: stretch;justify-content: center;background-color: white;position: relative;}#sk-container-id-1 div.sk-item::before, #sk-container-id-1 div.sk-parallel-item::before {content: \"\";position: absolute;border-left: 1px solid gray;box-sizing: border-box;top: 0;bottom: 0;left: 50%;z-index: -1;}#sk-container-id-1 div.sk-parallel-item {display: flex;flex-direction: column;z-index: 1;position: relative;background-color: white;}#sk-container-id-1 div.sk-parallel-item:first-child::after {align-self: flex-end;width: 50%;}#sk-container-id-1 div.sk-parallel-item:last-child::after {align-self: flex-start;width: 50%;}#sk-container-id-1 div.sk-parallel-item:only-child::after {width: 0;}#sk-container-id-1 div.sk-dashed-wrapped {border: 1px dashed gray;margin: 0 0.4em 0.5em 0.4em;box-sizing: border-box;padding-bottom: 0.4em;background-color: white;}#sk-container-id-1 div.sk-label label {font-family: monospace;font-weight: bold;display: inline-block;line-height: 1.2em;}#sk-container-id-1 div.sk-label-container {text-align: center;}#sk-container-id-1 div.sk-container {/* jupyter's `normalize.less` sets `[hidden] { display: none; }` but bootstrap.min.css set `[hidden] { display: none !important; }` so we also need the `!important` here to be able to override the default hidden behavior on the sphinx rendered scikit-learn.org. See: https://github.com/scikit-learn/scikit-learn/issues/21755 */display: inline-block !important;position: relative;}#sk-container-id-1 div.sk-text-repr-fallback {display: none;}</style><div id=\"sk-container-id-1\" class=\"sk-top-container\"><div class=\"sk-text-repr-fallback\"><pre>Pipeline(steps=[(&#x27;OrdinalEncoder&#x27;,\n",
       "                 ColumnTransformer(remainder=&#x27;passthrough&#x27;,\n",
       "                                   transformers=[(&#x27;ordinalencoder&#x27;,\n",
       "                                                  OrdinalEncoder(handle_unknown=&#x27;use_encoded_value&#x27;,\n",
       "                                                                 unknown_value=-1),\n",
       "                                                  Index([&#x27;Gearing_Type&#x27;, &#x27;make_model&#x27;], dtype=&#x27;object&#x27;))])),\n",
       "                (&#x27;DT_model&#x27;, DecisionTreeRegressor(random_state=101))])</pre><b>In a Jupyter environment, please rerun this cell to show the HTML representation or trust the notebook. <br />On GitHub, the HTML representation is unable to render, please try loading this page with nbviewer.org.</b></div><div class=\"sk-container\" hidden><div class=\"sk-item sk-dashed-wrapped\"><div class=\"sk-label-container\"><div class=\"sk-label sk-toggleable\"><input class=\"sk-toggleable__control sk-hidden--visually\" id=\"sk-estimator-id-1\" type=\"checkbox\" ><label for=\"sk-estimator-id-1\" class=\"sk-toggleable__label sk-toggleable__label-arrow\">Pipeline</label><div class=\"sk-toggleable__content\"><pre>Pipeline(steps=[(&#x27;OrdinalEncoder&#x27;,\n",
       "                 ColumnTransformer(remainder=&#x27;passthrough&#x27;,\n",
       "                                   transformers=[(&#x27;ordinalencoder&#x27;,\n",
       "                                                  OrdinalEncoder(handle_unknown=&#x27;use_encoded_value&#x27;,\n",
       "                                                                 unknown_value=-1),\n",
       "                                                  Index([&#x27;Gearing_Type&#x27;, &#x27;make_model&#x27;], dtype=&#x27;object&#x27;))])),\n",
       "                (&#x27;DT_model&#x27;, DecisionTreeRegressor(random_state=101))])</pre></div></div></div><div class=\"sk-serial\"><div class=\"sk-item sk-dashed-wrapped\"><div class=\"sk-label-container\"><div class=\"sk-label sk-toggleable\"><input class=\"sk-toggleable__control sk-hidden--visually\" id=\"sk-estimator-id-2\" type=\"checkbox\" ><label for=\"sk-estimator-id-2\" class=\"sk-toggleable__label sk-toggleable__label-arrow\">OrdinalEncoder: ColumnTransformer</label><div class=\"sk-toggleable__content\"><pre>ColumnTransformer(remainder=&#x27;passthrough&#x27;,\n",
       "                  transformers=[(&#x27;ordinalencoder&#x27;,\n",
       "                                 OrdinalEncoder(handle_unknown=&#x27;use_encoded_value&#x27;,\n",
       "                                                unknown_value=-1),\n",
       "                                 Index([&#x27;Gearing_Type&#x27;, &#x27;make_model&#x27;], dtype=&#x27;object&#x27;))])</pre></div></div></div><div class=\"sk-parallel\"><div class=\"sk-parallel-item\"><div class=\"sk-item\"><div class=\"sk-label-container\"><div class=\"sk-label sk-toggleable\"><input class=\"sk-toggleable__control sk-hidden--visually\" id=\"sk-estimator-id-3\" type=\"checkbox\" ><label for=\"sk-estimator-id-3\" class=\"sk-toggleable__label sk-toggleable__label-arrow\">ordinalencoder</label><div class=\"sk-toggleable__content\"><pre>Index([&#x27;Gearing_Type&#x27;, &#x27;make_model&#x27;], dtype=&#x27;object&#x27;)</pre></div></div></div><div class=\"sk-serial\"><div class=\"sk-item\"><div class=\"sk-estimator sk-toggleable\"><input class=\"sk-toggleable__control sk-hidden--visually\" id=\"sk-estimator-id-4\" type=\"checkbox\" ><label for=\"sk-estimator-id-4\" class=\"sk-toggleable__label sk-toggleable__label-arrow\">OrdinalEncoder</label><div class=\"sk-toggleable__content\"><pre>OrdinalEncoder(handle_unknown=&#x27;use_encoded_value&#x27;, unknown_value=-1)</pre></div></div></div></div></div></div><div class=\"sk-parallel-item\"><div class=\"sk-item\"><div class=\"sk-label-container\"><div class=\"sk-label sk-toggleable\"><input class=\"sk-toggleable__control sk-hidden--visually\" id=\"sk-estimator-id-5\" type=\"checkbox\" ><label for=\"sk-estimator-id-5\" class=\"sk-toggleable__label sk-toggleable__label-arrow\">remainder</label><div class=\"sk-toggleable__content\"><pre>[&#x27;age&#x27;, &#x27;hp_kW&#x27;, &#x27;km&#x27;]</pre></div></div></div><div class=\"sk-serial\"><div class=\"sk-item\"><div class=\"sk-estimator sk-toggleable\"><input class=\"sk-toggleable__control sk-hidden--visually\" id=\"sk-estimator-id-6\" type=\"checkbox\" ><label for=\"sk-estimator-id-6\" class=\"sk-toggleable__label sk-toggleable__label-arrow\">passthrough</label><div class=\"sk-toggleable__content\"><pre>passthrough</pre></div></div></div></div></div></div></div></div><div class=\"sk-item\"><div class=\"sk-estimator sk-toggleable\"><input class=\"sk-toggleable__control sk-hidden--visually\" id=\"sk-estimator-id-7\" type=\"checkbox\" ><label for=\"sk-estimator-id-7\" class=\"sk-toggleable__label sk-toggleable__label-arrow\">DecisionTreeRegressor</label><div class=\"sk-toggleable__content\"><pre>DecisionTreeRegressor(random_state=101)</pre></div></div></div></div></div></div></div>"
      ],
      "text/plain": [
       "Pipeline(steps=[('OrdinalEncoder',\n",
       "                 ColumnTransformer(remainder='passthrough',\n",
       "                                   transformers=[('ordinalencoder',\n",
       "                                                  OrdinalEncoder(handle_unknown='use_encoded_value',\n",
       "                                                                 unknown_value=-1),\n",
       "                                                  Index(['Gearing_Type', 'make_model'], dtype='object'))])),\n",
       "                ('DT_model', DecisionTreeRegressor(random_state=101))])"
      ]
     },
     "execution_count": 38,
     "metadata": {},
     "output_type": "execute_result"
    }
   ],
   "source": [
    "from sklearn.pipeline import Pipeline\n",
    "from sklearn.tree import DecisionTreeClassifier, DecisionTreeRegressor\n",
    "\n",
    "\n",
    "operations = [(\"OrdinalEncoder\", column_trans), (\"DT_model\", DecisionTreeRegressor(random_state=101))]\n",
    "\n",
    "pipe_model = Pipeline(steps=operations)\n",
    "\n",
    "pipe_model.fit(X_train, y_train)\n"
   ]
  },
  {
   "cell_type": "code",
   "execution_count": 39,
   "id": "legislative-office",
   "metadata": {
    "ExecuteTime": {
     "end_time": "2022-12-10T06:14:13.218325Z",
     "start_time": "2022-12-10T06:14:13.202332Z"
    }
   },
   "outputs": [],
   "source": [
    "from sklearn.metrics import r2_score, mean_absolute_error, mean_squared_error"
   ]
  },
  {
   "cell_type": "code",
   "execution_count": 40,
   "id": "5783b5a8",
   "metadata": {
    "ExecuteTime": {
     "end_time": "2022-12-10T06:14:13.234315Z",
     "start_time": "2022-12-10T06:14:13.218325Z"
    }
   },
   "outputs": [],
   "source": [
    "def train_val(model, X_train, y_train, X_test, y_test):\n",
    "    \n",
    "    y_pred = model.predict(X_test)\n",
    "    y_train_pred = model.predict(X_train)\n",
    "    \n",
    "    scores = {\"train\": {\"R2\" : r2_score(y_train, y_train_pred),\n",
    "    \"mae\" : mean_absolute_error(y_train, y_train_pred),\n",
    "    \"mse\" : mean_squared_error(y_train, y_train_pred),                          \n",
    "    \"rmse\" : np.sqrt(mean_squared_error(y_train, y_train_pred))},\n",
    "    \n",
    "    \"test\": {\"R2\" : r2_score(y_test, y_pred),\n",
    "    \"mae\" : mean_absolute_error(y_test, y_pred),\n",
    "    \"mse\" : mean_squared_error(y_test, y_pred),\n",
    "    \"rmse\" : np.sqrt(mean_squared_error(y_test, y_pred))}}\n",
    "    \n",
    "    return pd.DataFrame(scores)"
   ]
  },
  {
   "cell_type": "code",
   "execution_count": 41,
   "id": "644ac536",
   "metadata": {
    "ExecuteTime": {
     "end_time": "2022-12-10T06:14:13.258306Z",
     "start_time": "2022-12-10T06:14:13.234315Z"
    }
   },
   "outputs": [
    {
     "data": {
      "text/html": [
       "<div>\n",
       "<style scoped>\n",
       "    .dataframe tbody tr th:only-of-type {\n",
       "        vertical-align: middle;\n",
       "    }\n",
       "\n",
       "    .dataframe tbody tr th {\n",
       "        vertical-align: top;\n",
       "    }\n",
       "\n",
       "    .dataframe thead th {\n",
       "        text-align: right;\n",
       "    }\n",
       "</style>\n",
       "<table border=\"1\" class=\"dataframe\">\n",
       "  <thead>\n",
       "    <tr style=\"text-align: right;\">\n",
       "      <th></th>\n",
       "      <th>train</th>\n",
       "      <th>test</th>\n",
       "    </tr>\n",
       "  </thead>\n",
       "  <tbody>\n",
       "    <tr>\n",
       "      <th>R2</th>\n",
       "      <td>9.799361e-01</td>\n",
       "      <td>9.065788e-01</td>\n",
       "    </tr>\n",
       "    <tr>\n",
       "      <th>mae</th>\n",
       "      <td>3.317592e+02</td>\n",
       "      <td>1.262153e+03</td>\n",
       "    </tr>\n",
       "    <tr>\n",
       "      <th>mse</th>\n",
       "      <td>1.102565e+06</td>\n",
       "      <td>4.914032e+06</td>\n",
       "    </tr>\n",
       "    <tr>\n",
       "      <th>rmse</th>\n",
       "      <td>1.050031e+03</td>\n",
       "      <td>2.216762e+03</td>\n",
       "    </tr>\n",
       "  </tbody>\n",
       "</table>\n",
       "</div>"
      ],
      "text/plain": [
       "             train          test\n",
       "R2    9.799361e-01  9.065788e-01\n",
       "mae   3.317592e+02  1.262153e+03\n",
       "mse   1.102565e+06  4.914032e+06\n",
       "rmse  1.050031e+03  2.216762e+03"
      ]
     },
     "execution_count": 41,
     "metadata": {},
     "output_type": "execute_result"
    }
   ],
   "source": [
    "train_val(pipe_model, X_train, y_train, X_test, y_test)\n",
    "\n",
    "# overfiting olduğuna dair insightımızı aldık. CV'da kesin kararımızı vereceğiz."
   ]
  },
  {
   "cell_type": "code",
   "execution_count": 43,
   "id": "satellite-animation",
   "metadata": {
    "ExecuteTime": {
     "end_time": "2022-12-10T06:14:13.370288Z",
     "start_time": "2022-12-10T06:14:13.258306Z"
    }
   },
   "outputs": [
    {
     "data": {
      "text/plain": [
       "test_r2                              9.035614e-01\n",
       "train_r2                             9.803480e-01\n",
       "test_neg_mean_absolute_error        -1.305582e+03\n",
       "train_neg_mean_absolute_error       -3.245771e+02\n",
       "test_neg_mean_squared_error         -5.280542e+06\n",
       "train_neg_mean_squared_error        -1.079881e+06\n",
       "test_neg_root_mean_squared_error    -2.294308e+03\n",
       "train_neg_root_mean_squared_error   -1.039050e+03\n",
       "dtype: float64"
      ]
     },
     "execution_count": 43,
     "metadata": {},
     "output_type": "execute_result"
    }
   ],
   "source": [
    "from sklearn.model_selection import cross_validate, cross_val_score\n",
    "\n",
    "operations = [(\"OrdinalEncoder\", column_trans), (\"DT_model\", DecisionTreeRegressor(random_state=101))]\n",
    "model = Pipeline(steps=operations)\n",
    "\n",
    "scores = cross_validate(model, X_train, y_train, scoring=['r2', \n",
    "            'neg_mean_absolute_error','neg_mean_squared_error','neg_root_mean_squared_error'], cv =10,\n",
    "                       return_train_score=True)\n",
    "\n",
    "df_scores = pd.DataFrame(scores)\n",
    "df_scores.mean()[2:]\n",
    "\n",
    "# overfiting olduğunu teyit ettik"
   ]
  },
  {
   "cell_type": "code",
   "execution_count": 46,
   "id": "8d39856e",
   "metadata": {},
   "outputs": [
    {
     "name": "stdout",
     "output_type": "stream",
     "text": [
      "Collecting yellowbrickNote: you may need to restart the kernel to use updated packages.\n",
      "\n",
      "  Using cached yellowbrick-1.5-py3-none-any.whl (282 kB)\n",
      "Requirement already satisfied: matplotlib!=3.0.0,>=2.0.2 in c:\\users\\delta lidar\\desktop\\ml\\assingment3\\env_project\\lib\\site-packages (from yellowbrick) (3.6.2)\n",
      "Requirement already satisfied: scipy>=1.0.0 in c:\\users\\delta lidar\\desktop\\ml\\assingment3\\env_project\\lib\\site-packages (from yellowbrick) (1.10.0)\n",
      "Requirement already satisfied: scikit-learn>=1.0.0 in c:\\users\\delta lidar\\desktop\\ml\\assingment3\\env_project\\lib\\site-packages (from yellowbrick) (1.2.0)\n",
      "Requirement already satisfied: numpy>=1.16.0 in c:\\users\\delta lidar\\desktop\\ml\\assingment3\\env_project\\lib\\site-packages (from yellowbrick) (1.24.1)\n",
      "Requirement already satisfied: cycler>=0.10.0 in c:\\users\\delta lidar\\desktop\\ml\\assingment3\\env_project\\lib\\site-packages (from yellowbrick) (0.11.0)\n",
      "Requirement already satisfied: contourpy>=1.0.1 in c:\\users\\delta lidar\\desktop\\ml\\assingment3\\env_project\\lib\\site-packages (from matplotlib!=3.0.0,>=2.0.2->yellowbrick) (1.0.6)\n",
      "Requirement already satisfied: fonttools>=4.22.0 in c:\\users\\delta lidar\\desktop\\ml\\assingment3\\env_project\\lib\\site-packages (from matplotlib!=3.0.0,>=2.0.2->yellowbrick) (4.38.0)\n",
      "Requirement already satisfied: kiwisolver>=1.0.1 in c:\\users\\delta lidar\\desktop\\ml\\assingment3\\env_project\\lib\\site-packages (from matplotlib!=3.0.0,>=2.0.2->yellowbrick) (1.4.4)\n",
      "Requirement already satisfied: packaging>=20.0 in c:\\users\\delta lidar\\desktop\\ml\\assingment3\\env_project\\lib\\site-packages (from matplotlib!=3.0.0,>=2.0.2->yellowbrick) (23.0)\n",
      "Requirement already satisfied: pillow>=6.2.0 in c:\\users\\delta lidar\\desktop\\ml\\assingment3\\env_project\\lib\\site-packages (from matplotlib!=3.0.0,>=2.0.2->yellowbrick) (9.4.0)\n",
      "Requirement already satisfied: pyparsing>=2.2.1 in c:\\users\\delta lidar\\desktop\\ml\\assingment3\\env_project\\lib\\site-packages (from matplotlib!=3.0.0,>=2.0.2->yellowbrick) (3.0.9)\n",
      "Requirement already satisfied: python-dateutil>=2.7 in c:\\users\\delta lidar\\desktop\\ml\\assingment3\\env_project\\lib\\site-packages (from matplotlib!=3.0.0,>=2.0.2->yellowbrick) (2.8.2)\n",
      "Requirement already satisfied: joblib>=1.1.1 in c:\\users\\delta lidar\\desktop\\ml\\assingment3\\env_project\\lib\\site-packages (from scikit-learn>=1.0.0->yellowbrick) (1.2.0)\n",
      "Requirement already satisfied: threadpoolctl>=2.0.0 in c:\\users\\delta lidar\\desktop\\ml\\assingment3\\env_project\\lib\\site-packages (from scikit-learn>=1.0.0->yellowbrick) (3.1.0)\n",
      "Requirement already satisfied: six>=1.5 in c:\\users\\delta lidar\\desktop\\ml\\assingment3\\env_project\\lib\\site-packages (from python-dateutil>=2.7->matplotlib!=3.0.0,>=2.0.2->yellowbrick) (1.16.0)\n",
      "Installing collected packages: yellowbrick\n",
      "Successfully installed yellowbrick-1.5\n"
     ]
    }
   ],
   "source": [
    "pip install yellowbrick"
   ]
  },
  {
   "cell_type": "code",
   "execution_count": 48,
   "id": "1eff94e0",
   "metadata": {
    "ExecuteTime": {
     "end_time": "2022-12-10T06:14:14.636203Z",
     "start_time": "2022-12-10T06:14:14.451585Z"
    }
   },
   "outputs": [
    {
     "data": {
      "image/png": "[encoded data removed]",
      "text/plain": [
       "<Figure size 720x600 with 1 Axes>"
      ]
     },
     "metadata": {},
     "output_type": "display_data"
    }
   ],
   "source": [
    "from yellowbrick.regressor import PredictionError\n",
    "from yellowbrick.features import RadViz\n",
    "\n",
    "visualizer = RadViz(size=(720, 600))\n",
    "\n",
    "model = pipe_model\n",
    "visualizer = PredictionError(model)\n",
    "visualizer.fit(X_train, y_train)  # Fit the training data to the visualizer\n",
    "visualizer.score(X_test, y_test)  # Evaluate the model on the test data\n",
    "visualizer.show();\n",
    "\n"
   ]
  },
  {
   "cell_type": "code",
   "execution_count": 49,
   "id": "1a239ec2",
   "metadata": {
    "ExecuteTime": {
     "end_time": "2022-12-10T06:14:14.908131Z",
     "start_time": "2022-12-10T06:14:14.636203Z"
    }
   },
   "outputs": [
    {
     "data": {
      "image/png": "[encoded data removed]",
      "text/plain": [
       "<Figure size 720x600 with 2 Axes>"
      ]
     },
     "metadata": {},
     "output_type": "display_data"
    }
   ],
   "source": [
    "from yellowbrick.regressor import ResidualsPlot\n",
    "\n",
    "visualizer = RadViz(size=(720, 600))\n",
    "model = pipe_model\n",
    "visualizer = ResidualsPlot(model)\n",
    "\n",
    "visualizer.fit(X_train, y_train)  # Fit the training data to the visualizer\n",
    "visualizer.score(X_test, y_test)  # Evaluate the model on the test data\n",
    "visualizer.show();       "
   ]
  },
  {
   "cell_type": "markdown",
   "id": "ignored-intensity",
   "metadata": {},
   "source": [
    "## Visualizing trees"
   ]
  },
  {
   "cell_type": "code",
   "execution_count": 50,
   "id": "infectious-cricket",
   "metadata": {
    "ExecuteTime": {
     "end_time": "2022-12-10T06:14:14.924045Z",
     "start_time": "2022-12-10T06:14:14.908131Z"
    }
   },
   "outputs": [],
   "source": [
    "from sklearn.tree import plot_tree"
   ]
  },
  {
   "cell_type": "code",
   "execution_count": 51,
   "id": "9b87598a",
   "metadata": {
    "ExecuteTime": {
     "end_time": "2022-12-10T06:14:14.948076Z",
     "start_time": "2022-12-10T06:14:14.924045Z"
    }
   },
   "outputs": [
    {
     "data": {
      "text/plain": [
       "array(['ordinalencoder__Gearing_Type', 'ordinalencoder__make_model',\n",
       "       'remainder__age', 'remainder__hp_kW', 'remainder__km'],\n",
       "      dtype=object)"
      ]
     },
     "execution_count": 51,
     "metadata": {},
     "output_type": "execute_result"
    }
   ],
   "source": [
    "features = pipe_model[\"OrdinalEncoder\"].get_feature_names_out()\n",
    "features\n",
    "\n",
    "# pipeline içerisinde make_column_transform fonksiyonu kullanıldığından feature sırlamasının değiştiğini unutmuyoruz."
   ]
  },
  {
   "cell_type": "code",
   "execution_count": 52,
   "id": "b61a6236",
   "metadata": {
    "ExecuteTime": {
     "end_time": "2022-12-10T06:14:14.964035Z",
     "start_time": "2022-12-10T06:14:14.948076Z"
    }
   },
   "outputs": [
    {
     "data": {
      "text/plain": [
       "['Gearing_Type', 'make_model', 'age', 'hp_kW', 'km']"
      ]
     },
     "execution_count": 52,
     "metadata": {},
     "output_type": "execute_result"
    }
   ],
   "source": [
    "new_features = [i.replace(\"ordinalencoder__\",\"\").replace(\"remainder__\", \"\") for i in features]\n",
    "new_features\n",
    "\n",
    "# ordinalencoder__ ve remainder__ ön eklerinden kurtuluyoruz."
   ]
  },
  {
   "cell_type": "code",
   "execution_count": 53,
   "id": "cbc6e677",
   "metadata": {
    "ExecuteTime": {
     "end_time": "2022-12-10T06:14:15.060229Z",
     "start_time": "2022-12-10T06:14:14.964035Z"
    }
   },
   "outputs": [
    {
     "data": {
      "text/html": [
       "<div>\n",
       "<style scoped>\n",
       "    .dataframe tbody tr th:only-of-type {\n",
       "        vertical-align: middle;\n",
       "    }\n",
       "\n",
       "    .dataframe tbody tr th {\n",
       "        vertical-align: top;\n",
       "    }\n",
       "\n",
       "    .dataframe thead th {\n",
       "        text-align: right;\n",
       "    }\n",
       "</style>\n",
       "<table border=\"1\" class=\"dataframe\">\n",
       "  <thead>\n",
       "    <tr style=\"text-align: right;\">\n",
       "      <th></th>\n",
       "      <th>Gearing_Type</th>\n",
       "      <th>make_model</th>\n",
       "      <th>age</th>\n",
       "      <th>hp_kW</th>\n",
       "      <th>km</th>\n",
       "    </tr>\n",
       "  </thead>\n",
       "  <tbody>\n",
       "    <tr>\n",
       "      <th>0</th>\n",
       "      <td>0.0</td>\n",
       "      <td>7.0</td>\n",
       "      <td>1.0</td>\n",
       "      <td>118.0</td>\n",
       "      <td>18035.130067</td>\n",
       "    </tr>\n",
       "    <tr>\n",
       "      <th>1</th>\n",
       "      <td>1.0</td>\n",
       "      <td>3.0</td>\n",
       "      <td>3.0</td>\n",
       "      <td>51.0</td>\n",
       "      <td>96800.000000</td>\n",
       "    </tr>\n",
       "    <tr>\n",
       "      <th>2</th>\n",
       "      <td>1.0</td>\n",
       "      <td>3.0</td>\n",
       "      <td>2.0</td>\n",
       "      <td>66.0</td>\n",
       "      <td>35427.000000</td>\n",
       "    </tr>\n",
       "    <tr>\n",
       "      <th>3</th>\n",
       "      <td>1.0</td>\n",
       "      <td>4.0</td>\n",
       "      <td>2.0</td>\n",
       "      <td>100.0</td>\n",
       "      <td>93165.000000</td>\n",
       "    </tr>\n",
       "    <tr>\n",
       "      <th>4</th>\n",
       "      <td>0.0</td>\n",
       "      <td>4.0</td>\n",
       "      <td>2.0</td>\n",
       "      <td>100.0</td>\n",
       "      <td>30000.000000</td>\n",
       "    </tr>\n",
       "    <tr>\n",
       "      <th>...</th>\n",
       "      <td>...</td>\n",
       "      <td>...</td>\n",
       "      <td>...</td>\n",
       "      <td>...</td>\n",
       "      <td>...</td>\n",
       "    </tr>\n",
       "    <tr>\n",
       "      <th>12726</th>\n",
       "      <td>1.0</td>\n",
       "      <td>1.0</td>\n",
       "      <td>3.0</td>\n",
       "      <td>81.0</td>\n",
       "      <td>123226.000000</td>\n",
       "    </tr>\n",
       "    <tr>\n",
       "      <th>12727</th>\n",
       "      <td>0.0</td>\n",
       "      <td>3.0</td>\n",
       "      <td>0.0</td>\n",
       "      <td>66.0</td>\n",
       "      <td>10.000000</td>\n",
       "    </tr>\n",
       "    <tr>\n",
       "      <th>12728</th>\n",
       "      <td>1.0</td>\n",
       "      <td>1.0</td>\n",
       "      <td>1.0</td>\n",
       "      <td>85.0</td>\n",
       "      <td>22102.000000</td>\n",
       "    </tr>\n",
       "    <tr>\n",
       "      <th>12729</th>\n",
       "      <td>1.0</td>\n",
       "      <td>0.0</td>\n",
       "      <td>0.0</td>\n",
       "      <td>85.0</td>\n",
       "      <td>1.000000</td>\n",
       "    </tr>\n",
       "    <tr>\n",
       "      <th>12730</th>\n",
       "      <td>0.0</td>\n",
       "      <td>1.0</td>\n",
       "      <td>3.0</td>\n",
       "      <td>110.0</td>\n",
       "      <td>124950.000000</td>\n",
       "    </tr>\n",
       "  </tbody>\n",
       "</table>\n",
       "<p>12731 rows × 5 columns</p>\n",
       "</div>"
      ],
      "text/plain": [
       "       Gearing_Type  make_model  age  hp_kW             km\n",
       "0               0.0         7.0  1.0  118.0   18035.130067\n",
       "1               1.0         3.0  3.0   51.0   96800.000000\n",
       "2               1.0         3.0  2.0   66.0   35427.000000\n",
       "3               1.0         4.0  2.0  100.0   93165.000000\n",
       "4               0.0         4.0  2.0  100.0   30000.000000\n",
       "...             ...         ...  ...    ...            ...\n",
       "12726           1.0         1.0  3.0   81.0  123226.000000\n",
       "12727           0.0         3.0  0.0   66.0      10.000000\n",
       "12728           1.0         1.0  1.0   85.0   22102.000000\n",
       "12729           1.0         0.0  0.0   85.0       1.000000\n",
       "12730           0.0         1.0  3.0  110.0  124950.000000\n",
       "\n",
       "[12731 rows x 5 columns]"
      ]
     },
     "execution_count": 53,
     "metadata": {},
     "output_type": "execute_result"
    }
   ],
   "source": [
    "pd.DataFrame(pipe_model[\"OrdinalEncoder\"].fit_transform(X_train), columns=new_features)\n",
    "\n",
    "# make_column_transform sonrası yapısı değişen df'in son hali. Gördüğünüz gibi kategorik featurlar en öne takiben numaric\n",
    "# featurlar gelmiş."
   ]
  },
  {
   "cell_type": "code",
   "execution_count": 54,
   "id": "7eaf60d4",
   "metadata": {
    "ExecuteTime": {
     "end_time": "2022-12-10T06:14:15.076173Z",
     "start_time": "2022-12-10T06:14:15.060229Z"
    }
   },
   "outputs": [
    {
     "data": {
      "text/html": [
       "<div>\n",
       "<style scoped>\n",
       "    .dataframe tbody tr th:only-of-type {\n",
       "        vertical-align: middle;\n",
       "    }\n",
       "\n",
       "    .dataframe tbody tr th {\n",
       "        vertical-align: top;\n",
       "    }\n",
       "\n",
       "    .dataframe thead th {\n",
       "        text-align: right;\n",
       "    }\n",
       "</style>\n",
       "<table border=\"1\" class=\"dataframe\">\n",
       "  <thead>\n",
       "    <tr style=\"text-align: right;\">\n",
       "      <th></th>\n",
       "      <th>age</th>\n",
       "      <th>hp_kW</th>\n",
       "      <th>km</th>\n",
       "      <th>Gearing_Type</th>\n",
       "      <th>make_model</th>\n",
       "    </tr>\n",
       "  </thead>\n",
       "  <tbody>\n",
       "    <tr>\n",
       "      <th>15426</th>\n",
       "      <td>1.0</td>\n",
       "      <td>118.0</td>\n",
       "      <td>18035.130067</td>\n",
       "      <td>Automatic</td>\n",
       "      <td>Renault Espace</td>\n",
       "    </tr>\n",
       "  </tbody>\n",
       "</table>\n",
       "</div>"
      ],
      "text/plain": [
       "       age  hp_kW            km Gearing_Type      make_model\n",
       "15426  1.0  118.0  18035.130067    Automatic  Renault Espace"
      ]
     },
     "execution_count": 54,
     "metadata": {},
     "output_type": "execute_result"
    }
   ],
   "source": [
    "X_train.head(1)"
   ]
  },
  {
   "cell_type": "code",
   "execution_count": 56,
   "id": "returning-alexandria",
   "metadata": {
    "ExecuteTime": {
     "end_time": "2022-12-10T06:14:24.520856Z",
     "start_time": "2022-12-10T06:14:24.504839Z"
    }
   },
   "outputs": [],
   "source": [
    "def report_model(model):\n",
    "    y_pred = model.predict(X_test)\n",
    "    y_train_pred = model.predict(X_train)\n",
    "    print('\\n')\n",
    "    print(train_val(model, X_train, y_train, X_test, y_test))\n",
    "    print('\\n')\n",
    "    plt.figure(figsize=(12,8),dpi=100)\n",
    "    plot_tree(model[\"DT_model\"],filled=True, feature_names=new_features, fontsize=8); #feature_names=X.columns\n",
    "\n",
    "# Bu fonksiyon ile train ve test seti skorlarını karşılaştırıp ağacımızı görselleştiriyoruz."
   ]
  },
  {
   "cell_type": "code",
   "execution_count": 59,
   "id": "sensitive-federation",
   "metadata": {
    "ExecuteTime": {
     "end_time": "2022-12-10T06:14:24.961351Z",
     "start_time": "2022-12-10T06:14:24.520856Z"
    }
   },
   "outputs": [
    {
     "name": "stdout",
     "output_type": "stream",
     "text": [
      "\n",
      "\n",
      "             train          test\n",
      "R2    7.091500e-01  7.099478e-01\n",
      "mae   2.880077e+03  2.852356e+03\n",
      "mse   1.598301e+07  1.525698e+07\n",
      "rmse  3.997875e+03  3.906019e+03\n",
      "\n",
      "\n"
     ]
    },
    {
     "data": {
      "image/png": "[encoded data removed]",
      "text/plain": [
       "<Figure size 1200x800 with 1 Axes>"
      ]
     },
     "metadata": {},
     "output_type": "display_data"
    }
   ],
   "source": [
    "operations = [(\"OrdinalEncoder\", column_trans), (\"DT_model\", DecisionTreeRegressor(criterion='squared_error', max_depth=3, \n",
    "                                                                                   random_state=101))]\n",
    "\n",
    "pruned_tree = Pipeline(steps=operations)\n",
    "pruned_tree.fit(X_train,y_train)\n",
    "\n",
    "report_model(pruned_tree)\n"
   ]
  },
  {
   "cell_type": "markdown",
   "id": "growing-landscape",
   "metadata": {},
   "source": [
    "## GridSearch"
   ]
  },
  {
   "cell_type": "code",
   "execution_count": 60,
   "id": "activated-korea",
   "metadata": {
    "ExecuteTime": {
     "end_time": "2022-12-10T06:14:24.977343Z",
     "start_time": "2022-12-10T06:14:24.961351Z"
    }
   },
   "outputs": [],
   "source": [
    "from sklearn.model_selection import GridSearchCV"
   ]
  },
  {
   "cell_type": "code",
   "execution_count": 61,
   "id": "tutorial-gates",
   "metadata": {
    "ExecuteTime": {
     "end_time": "2022-12-10T06:14:24.993286Z",
     "start_time": "2022-12-10T06:14:24.977343Z"
    }
   },
   "outputs": [],
   "source": [
    "operations = [(\"OrdinalEncoder\", column_trans), (\"DT_model\", DecisionTreeRegressor(random_state=101))]\n",
    "\n",
    "pipe_model = Pipeline(steps=operations)"
   ]
  },
  {
   "cell_type": "code",
   "execution_count": 62,
   "id": "virgin-boards",
   "metadata": {
    "ExecuteTime": {
     "end_time": "2022-12-10T06:14:25.009400Z",
     "start_time": "2022-12-10T06:14:24.993286Z"
    }
   },
   "outputs": [],
   "source": [
    "param_grid = {\"DT_model__splitter\":[\"best\", \"random\"],\n",
    "              \"DT_model__criterion\":[\"squared_error\", \"friedman_mse\", \"absolute_error\", \"poisson\"],\n",
    "              \"DT_model__max_depth\": [2, 3],\n",
    "              \"DT_model__min_samples_leaf\": [1, 2, 3, 4],\n",
    "              \"DT_model__min_samples_split\": [2, 3, 4],\n",
    "              \"DT_model__max_features\":[4, 5, 6, None]}"
   ]
  },
  {
   "cell_type": "code",
   "execution_count": 63,
   "id": "basic-bailey",
   "metadata": {
    "ExecuteTime": {
     "end_time": "2022-12-10T06:14:25.025397Z",
     "start_time": "2022-12-10T06:14:25.009400Z"
    }
   },
   "outputs": [],
   "source": [
    "grid_model = GridSearchCV(estimator=pipe_model,\n",
    "                          param_grid=param_grid,\n",
    "                          scoring='neg_root_mean_squared_error',\n",
    "                          cv=10,\n",
    "                          n_jobs = -1,\n",
    "                          return_train_score=True)"
   ]
  },
  {
   "cell_type": "code",
   "execution_count": 68,
   "id": "bizarre-symposium",
   "metadata": {
    "ExecuteTime": {
     "end_time": "2022-12-10T06:14:46.534676Z",
     "start_time": "2022-12-10T06:14:46.374340Z"
    }
   },
   "outputs": [
    {
     "data": {
      "text/html": [
       "<div>\n",
       "<style scoped>\n",
       "    .dataframe tbody tr th:only-of-type {\n",
       "        vertical-align: middle;\n",
       "    }\n",
       "\n",
       "    .dataframe tbody tr th {\n",
       "        vertical-align: top;\n",
       "    }\n",
       "\n",
       "    .dataframe thead th {\n",
       "        text-align: right;\n",
       "    }\n",
       "</style>\n",
       "<table border=\"1\" class=\"dataframe\">\n",
       "  <thead>\n",
       "    <tr style=\"text-align: right;\">\n",
       "      <th></th>\n",
       "      <th>test_r2</th>\n",
       "      <th>train_r2</th>\n",
       "      <th>test_neg_mean_absolute_error</th>\n",
       "      <th>train_neg_mean_absolute_error</th>\n",
       "      <th>test_neg_mean_squared_error</th>\n",
       "      <th>train_neg_mean_squared_error</th>\n",
       "      <th>test_neg_root_mean_squared_error</th>\n",
       "      <th>train_neg_root_mean_squared_error</th>\n",
       "    </tr>\n",
       "  </thead>\n",
       "  <tbody>\n",
       "    <tr>\n",
       "      <th>1</th>\n",
       "      <td>0.694951</td>\n",
       "      <td>0.684030</td>\n",
       "      <td>-2731.138148</td>\n",
       "      <td>-2792.828489</td>\n",
       "      <td>-1.733368e+07</td>\n",
       "      <td>-1.729730e+07</td>\n",
       "      <td>-4163.374159</td>\n",
       "      <td>-4159.002550</td>\n",
       "    </tr>\n",
       "    <tr>\n",
       "      <th>2</th>\n",
       "      <td>0.704408</td>\n",
       "      <td>0.682278</td>\n",
       "      <td>-2786.575805</td>\n",
       "      <td>-2787.052452</td>\n",
       "      <td>-1.713363e+07</td>\n",
       "      <td>-1.735337e+07</td>\n",
       "      <td>-4139.278422</td>\n",
       "      <td>-4165.737772</td>\n",
       "    </tr>\n",
       "    <tr>\n",
       "      <th>3</th>\n",
       "      <td>0.695318</td>\n",
       "      <td>0.684115</td>\n",
       "      <td>-2710.706599</td>\n",
       "      <td>-2795.048787</td>\n",
       "      <td>-1.728214e+07</td>\n",
       "      <td>-1.729548e+07</td>\n",
       "      <td>-4157.179100</td>\n",
       "      <td>-4158.783670</td>\n",
       "    </tr>\n",
       "    <tr>\n",
       "      <th>4</th>\n",
       "      <td>0.624910</td>\n",
       "      <td>0.691489</td>\n",
       "      <td>-2890.933229</td>\n",
       "      <td>-2775.029237</td>\n",
       "      <td>-1.926463e+07</td>\n",
       "      <td>-1.707627e+07</td>\n",
       "      <td>-4389.148842</td>\n",
       "      <td>-4132.344872</td>\n",
       "    </tr>\n",
       "    <tr>\n",
       "      <th>5</th>\n",
       "      <td>0.665139</td>\n",
       "      <td>0.687434</td>\n",
       "      <td>-2844.894737</td>\n",
       "      <td>-2780.136062</td>\n",
       "      <td>-1.809223e+07</td>\n",
       "      <td>-1.720834e+07</td>\n",
       "      <td>-4253.496412</td>\n",
       "      <td>-4148.293564</td>\n",
       "    </tr>\n",
       "    <tr>\n",
       "      <th>6</th>\n",
       "      <td>0.688481</td>\n",
       "      <td>0.684910</td>\n",
       "      <td>-2861.120974</td>\n",
       "      <td>-2778.674638</td>\n",
       "      <td>-1.758307e+07</td>\n",
       "      <td>-1.726183e+07</td>\n",
       "      <td>-4193.216975</td>\n",
       "      <td>-4154.735601</td>\n",
       "    </tr>\n",
       "    <tr>\n",
       "      <th>7</th>\n",
       "      <td>0.700529</td>\n",
       "      <td>0.682885</td>\n",
       "      <td>-2846.027494</td>\n",
       "      <td>-2780.155437</td>\n",
       "      <td>-1.727221e+07</td>\n",
       "      <td>-1.733034e+07</td>\n",
       "      <td>-4155.985362</td>\n",
       "      <td>-4162.972647</td>\n",
       "    </tr>\n",
       "    <tr>\n",
       "      <th>8</th>\n",
       "      <td>0.727509</td>\n",
       "      <td>0.680690</td>\n",
       "      <td>-2666.751767</td>\n",
       "      <td>-2799.910106</td>\n",
       "      <td>-1.474270e+07</td>\n",
       "      <td>-1.757648e+07</td>\n",
       "      <td>-3839.622511</td>\n",
       "      <td>-4192.431791</td>\n",
       "    </tr>\n",
       "    <tr>\n",
       "      <th>9</th>\n",
       "      <td>0.654328</td>\n",
       "      <td>0.688164</td>\n",
       "      <td>-2848.637078</td>\n",
       "      <td>-2779.910543</td>\n",
       "      <td>-1.834520e+07</td>\n",
       "      <td>-1.719705e+07</td>\n",
       "      <td>-4283.129999</td>\n",
       "      <td>-4146.932715</td>\n",
       "    </tr>\n",
       "    <tr>\n",
       "      <th>10</th>\n",
       "      <td>0.682375</td>\n",
       "      <td>0.685131</td>\n",
       "      <td>-2712.798507</td>\n",
       "      <td>-2794.898673</td>\n",
       "      <td>-1.621710e+07</td>\n",
       "      <td>-1.743663e+07</td>\n",
       "      <td>-4027.046398</td>\n",
       "      <td>-4175.718732</td>\n",
       "    </tr>\n",
       "  </tbody>\n",
       "</table>\n",
       "</div>"
      ],
      "text/plain": [
       "     test_r2  train_r2  test_neg_mean_absolute_error  \\\n",
       "1   0.694951  0.684030                  -2731.138148   \n",
       "2   0.704408  0.682278                  -2786.575805   \n",
       "3   0.695318  0.684115                  -2710.706599   \n",
       "4   0.624910  0.691489                  -2890.933229   \n",
       "5   0.665139  0.687434                  -2844.894737   \n",
       "6   0.688481  0.684910                  -2861.120974   \n",
       "7   0.700529  0.682885                  -2846.027494   \n",
       "8   0.727509  0.680690                  -2666.751767   \n",
       "9   0.654328  0.688164                  -2848.637078   \n",
       "10  0.682375  0.685131                  -2712.798507   \n",
       "\n",
       "    train_neg_mean_absolute_error  test_neg_mean_squared_error  \\\n",
       "1                    -2792.828489                -1.733368e+07   \n",
       "2                    -2787.052452                -1.713363e+07   \n",
       "3                    -2795.048787                -1.728214e+07   \n",
       "4                    -2775.029237                -1.926463e+07   \n",
       "5                    -2780.136062                -1.809223e+07   \n",
       "6                    -2778.674638                -1.758307e+07   \n",
       "7                    -2780.155437                -1.727221e+07   \n",
       "8                    -2799.910106                -1.474270e+07   \n",
       "9                    -2779.910543                -1.834520e+07   \n",
       "10                   -2794.898673                -1.621710e+07   \n",
       "\n",
       "    train_neg_mean_squared_error  test_neg_root_mean_squared_error  \\\n",
       "1                  -1.729730e+07                      -4163.374159   \n",
       "2                  -1.735337e+07                      -4139.278422   \n",
       "3                  -1.729548e+07                      -4157.179100   \n",
       "4                  -1.707627e+07                      -4389.148842   \n",
       "5                  -1.720834e+07                      -4253.496412   \n",
       "6                  -1.726183e+07                      -4193.216975   \n",
       "7                  -1.733034e+07                      -4155.985362   \n",
       "8                  -1.757648e+07                      -3839.622511   \n",
       "9                  -1.719705e+07                      -4283.129999   \n",
       "10                 -1.743663e+07                      -4027.046398   \n",
       "\n",
       "    train_neg_root_mean_squared_error  \n",
       "1                        -4159.002550  \n",
       "2                        -4165.737772  \n",
       "3                        -4158.783670  \n",
       "4                        -4132.344872  \n",
       "5                        -4148.293564  \n",
       "6                        -4154.735601  \n",
       "7                        -4162.972647  \n",
       "8                        -4192.431791  \n",
       "9                        -4146.932715  \n",
       "10                       -4175.718732  "
      ]
     },
     "execution_count": 68,
     "metadata": {},
     "output_type": "execute_result"
    }
   ],
   "source": [
    "from sklearn.model_selection import cross_validate, cross_val_score\n",
    "\n",
    "operations = [(\"OrdinalEncoder\", column_trans), (\"DT_model\", DecisionTreeRegressor(max_depth=3, criterion='absolute_error', \n",
    "                                                                                  random_state=101))]\n",
    "\n",
    "model = Pipeline(steps=operations)\n",
    "\n",
    "\n",
    "scores = cross_validate(model, X_train, y_train, scoring=['r2', \n",
    "            'neg_mean_absolute_error','neg_mean_squared_error','neg_root_mean_squared_error'], cv = 10,\n",
    "                       return_train_score=True)\n",
    "df_scores = pd.DataFrame(scores, index=range(1,11))\n",
    "df_scores.iloc[:,2:]\n",
    "\n",
    "# tüm metricleri görmek içinde CV yapabiliriz.\n",
    "# CVdaki tüm iterasyonlara baktığımızda bazı skorların çok farklı olduğunu görebiliyoruz. Çok küçük datalarda beklenen\n",
    "# bir durumdur."
   ]
  },
  {
   "cell_type": "code",
   "execution_count": 69,
   "id": "5de7a083",
   "metadata": {
    "ExecuteTime": {
     "end_time": "2022-12-10T06:14:46.550717Z",
     "start_time": "2022-12-10T06:14:46.534676Z"
    },
    "scrolled": true
   },
   "outputs": [
    {
     "data": {
      "text/plain": [
       "test_r2                              6.837948e-01\n",
       "train_r2                             6.851127e-01\n",
       "test_neg_mean_absolute_error        -2.789958e+03\n",
       "train_neg_mean_absolute_error       -2.786364e+03\n",
       "test_neg_mean_squared_error         -1.732666e+07\n",
       "train_neg_mean_squared_error        -1.730331e+07\n",
       "test_neg_root_mean_squared_error    -4.160148e+03\n",
       "train_neg_root_mean_squared_error   -4.159695e+03\n",
       "dtype: float64"
      ]
     },
     "execution_count": 69,
     "metadata": {},
     "output_type": "execute_result"
    }
   ],
   "source": [
    "df_scores.mean()[2:]\n",
    "\n",
    "# ortalamalarına göre "
   ]
  },
  {
   "attachments": {},
   "cell_type": "markdown",
   "id": "231e2c72",
   "metadata": {},
   "source": [
    "Final Model"
   ]
  },
  {
   "cell_type": "code",
   "execution_count": 73,
   "id": "95bed542",
   "metadata": {},
   "outputs": [
    {
     "data": {
      "text/html": [
       "<style>#sk-container-id-2 {color: black;background-color: white;}#sk-container-id-2 pre{padding: 0;}#sk-container-id-2 div.sk-toggleable {background-color: white;}#sk-container-id-2 label.sk-toggleable__label {cursor: pointer;display: block;width: 100%;margin-bottom: 0;padding: 0.3em;box-sizing: border-box;text-align: center;}#sk-container-id-2 label.sk-toggleable__label-arrow:before {content: \"▸\";float: left;margin-right: 0.25em;color: #696969;}#sk-container-id-2 label.sk-toggleable__label-arrow:hover:before {color: black;}#sk-container-id-2 div.sk-estimator:hover label.sk-toggleable__label-arrow:before {color: black;}#sk-container-id-2 div.sk-toggleable__content {max-height: 0;max-width: 0;overflow: hidden;text-align: left;background-color: #f0f8ff;}#sk-container-id-2 div.sk-toggleable__content pre {margin: 0.2em;color: black;border-radius: 0.25em;background-color: #f0f8ff;}#sk-container-id-2 input.sk-toggleable__control:checked~div.sk-toggleable__content {max-height: 200px;max-width: 100%;overflow: auto;}#sk-container-id-2 input.sk-toggleable__control:checked~label.sk-toggleable__label-arrow:before {content: \"▾\";}#sk-container-id-2 div.sk-estimator input.sk-toggleable__control:checked~label.sk-toggleable__label {background-color: #d4ebff;}#sk-container-id-2 div.sk-label input.sk-toggleable__control:checked~label.sk-toggleable__label {background-color: #d4ebff;}#sk-container-id-2 input.sk-hidden--visually {border: 0;clip: rect(1px 1px 1px 1px);clip: rect(1px, 1px, 1px, 1px);height: 1px;margin: -1px;overflow: hidden;padding: 0;position: absolute;width: 1px;}#sk-container-id-2 div.sk-estimator {font-family: monospace;background-color: #f0f8ff;border: 1px dotted black;border-radius: 0.25em;box-sizing: border-box;margin-bottom: 0.5em;}#sk-container-id-2 div.sk-estimator:hover {background-color: #d4ebff;}#sk-container-id-2 div.sk-parallel-item::after {content: \"\";width: 100%;border-bottom: 1px solid gray;flex-grow: 1;}#sk-container-id-2 div.sk-label:hover label.sk-toggleable__label {background-color: #d4ebff;}#sk-container-id-2 div.sk-serial::before {content: \"\";position: absolute;border-left: 1px solid gray;box-sizing: border-box;top: 0;bottom: 0;left: 50%;z-index: 0;}#sk-container-id-2 div.sk-serial {display: flex;flex-direction: column;align-items: center;background-color: white;padding-right: 0.2em;padding-left: 0.2em;position: relative;}#sk-container-id-2 div.sk-item {position: relative;z-index: 1;}#sk-container-id-2 div.sk-parallel {display: flex;align-items: stretch;justify-content: center;background-color: white;position: relative;}#sk-container-id-2 div.sk-item::before, #sk-container-id-2 div.sk-parallel-item::before {content: \"\";position: absolute;border-left: 1px solid gray;box-sizing: border-box;top: 0;bottom: 0;left: 50%;z-index: -1;}#sk-container-id-2 div.sk-parallel-item {display: flex;flex-direction: column;z-index: 1;position: relative;background-color: white;}#sk-container-id-2 div.sk-parallel-item:first-child::after {align-self: flex-end;width: 50%;}#sk-container-id-2 div.sk-parallel-item:last-child::after {align-self: flex-start;width: 50%;}#sk-container-id-2 div.sk-parallel-item:only-child::after {width: 0;}#sk-container-id-2 div.sk-dashed-wrapped {border: 1px dashed gray;margin: 0 0.4em 0.5em 0.4em;box-sizing: border-box;padding-bottom: 0.4em;background-color: white;}#sk-container-id-2 div.sk-label label {font-family: monospace;font-weight: bold;display: inline-block;line-height: 1.2em;}#sk-container-id-2 div.sk-label-container {text-align: center;}#sk-container-id-2 div.sk-container {/* jupyter's `normalize.less` sets `[hidden] { display: none; }` but bootstrap.min.css set `[hidden] { display: none !important; }` so we also need the `!important` here to be able to override the default hidden behavior on the sphinx rendered scikit-learn.org. See: https://github.com/scikit-learn/scikit-learn/issues/21755 */display: inline-block !important;position: relative;}#sk-container-id-2 div.sk-text-repr-fallback {display: none;}</style><div id=\"sk-container-id-2\" class=\"sk-top-container\"><div class=\"sk-text-repr-fallback\"><pre>Pipeline(steps=[(&#x27;OrdinalEncoder&#x27;,\n",
       "                 ColumnTransformer(remainder=&#x27;passthrough&#x27;,\n",
       "                                   transformers=[(&#x27;ordinalencoder&#x27;,\n",
       "                                                  OrdinalEncoder(handle_unknown=&#x27;use_encoded_value&#x27;,\n",
       "                                                                 unknown_value=-1),\n",
       "                                                  Index([&#x27;Gearing_Type&#x27;, &#x27;make_model&#x27;], dtype=&#x27;object&#x27;))])),\n",
       "                (&#x27;DT_model&#x27;,\n",
       "                 DecisionTreeRegressor(criterion=&#x27;absolute_error&#x27;, max_depth=3,\n",
       "                                       random_state=101))])</pre><b>In a Jupyter environment, please rerun this cell to show the HTML representation or trust the notebook. <br />On GitHub, the HTML representation is unable to render, please try loading this page with nbviewer.org.</b></div><div class=\"sk-container\" hidden><div class=\"sk-item sk-dashed-wrapped\"><div class=\"sk-label-container\"><div class=\"sk-label sk-toggleable\"><input class=\"sk-toggleable__control sk-hidden--visually\" id=\"sk-estimator-id-8\" type=\"checkbox\" ><label for=\"sk-estimator-id-8\" class=\"sk-toggleable__label sk-toggleable__label-arrow\">Pipeline</label><div class=\"sk-toggleable__content\"><pre>Pipeline(steps=[(&#x27;OrdinalEncoder&#x27;,\n",
       "                 ColumnTransformer(remainder=&#x27;passthrough&#x27;,\n",
       "                                   transformers=[(&#x27;ordinalencoder&#x27;,\n",
       "                                                  OrdinalEncoder(handle_unknown=&#x27;use_encoded_value&#x27;,\n",
       "                                                                 unknown_value=-1),\n",
       "                                                  Index([&#x27;Gearing_Type&#x27;, &#x27;make_model&#x27;], dtype=&#x27;object&#x27;))])),\n",
       "                (&#x27;DT_model&#x27;,\n",
       "                 DecisionTreeRegressor(criterion=&#x27;absolute_error&#x27;, max_depth=3,\n",
       "                                       random_state=101))])</pre></div></div></div><div class=\"sk-serial\"><div class=\"sk-item sk-dashed-wrapped\"><div class=\"sk-label-container\"><div class=\"sk-label sk-toggleable\"><input class=\"sk-toggleable__control sk-hidden--visually\" id=\"sk-estimator-id-9\" type=\"checkbox\" ><label for=\"sk-estimator-id-9\" class=\"sk-toggleable__label sk-toggleable__label-arrow\">OrdinalEncoder: ColumnTransformer</label><div class=\"sk-toggleable__content\"><pre>ColumnTransformer(remainder=&#x27;passthrough&#x27;,\n",
       "                  transformers=[(&#x27;ordinalencoder&#x27;,\n",
       "                                 OrdinalEncoder(handle_unknown=&#x27;use_encoded_value&#x27;,\n",
       "                                                unknown_value=-1),\n",
       "                                 Index([&#x27;Gearing_Type&#x27;, &#x27;make_model&#x27;], dtype=&#x27;object&#x27;))])</pre></div></div></div><div class=\"sk-parallel\"><div class=\"sk-parallel-item\"><div class=\"sk-item\"><div class=\"sk-label-container\"><div class=\"sk-label sk-toggleable\"><input class=\"sk-toggleable__control sk-hidden--visually\" id=\"sk-estimator-id-10\" type=\"checkbox\" ><label for=\"sk-estimator-id-10\" class=\"sk-toggleable__label sk-toggleable__label-arrow\">ordinalencoder</label><div class=\"sk-toggleable__content\"><pre>Index([&#x27;Gearing_Type&#x27;, &#x27;make_model&#x27;], dtype=&#x27;object&#x27;)</pre></div></div></div><div class=\"sk-serial\"><div class=\"sk-item\"><div class=\"sk-estimator sk-toggleable\"><input class=\"sk-toggleable__control sk-hidden--visually\" id=\"sk-estimator-id-11\" type=\"checkbox\" ><label for=\"sk-estimator-id-11\" class=\"sk-toggleable__label sk-toggleable__label-arrow\">OrdinalEncoder</label><div class=\"sk-toggleable__content\"><pre>OrdinalEncoder(handle_unknown=&#x27;use_encoded_value&#x27;, unknown_value=-1)</pre></div></div></div></div></div></div><div class=\"sk-parallel-item\"><div class=\"sk-item\"><div class=\"sk-label-container\"><div class=\"sk-label sk-toggleable\"><input class=\"sk-toggleable__control sk-hidden--visually\" id=\"sk-estimator-id-12\" type=\"checkbox\" ><label for=\"sk-estimator-id-12\" class=\"sk-toggleable__label sk-toggleable__label-arrow\">remainder</label><div class=\"sk-toggleable__content\"><pre>[&#x27;age&#x27;, &#x27;hp_kW&#x27;, &#x27;km&#x27;]</pre></div></div></div><div class=\"sk-serial\"><div class=\"sk-item\"><div class=\"sk-estimator sk-toggleable\"><input class=\"sk-toggleable__control sk-hidden--visually\" id=\"sk-estimator-id-13\" type=\"checkbox\" ><label for=\"sk-estimator-id-13\" class=\"sk-toggleable__label sk-toggleable__label-arrow\">passthrough</label><div class=\"sk-toggleable__content\"><pre>passthrough</pre></div></div></div></div></div></div></div></div><div class=\"sk-item\"><div class=\"sk-estimator sk-toggleable\"><input class=\"sk-toggleable__control sk-hidden--visually\" id=\"sk-estimator-id-14\" type=\"checkbox\" ><label for=\"sk-estimator-id-14\" class=\"sk-toggleable__label sk-toggleable__label-arrow\">DecisionTreeRegressor</label><div class=\"sk-toggleable__content\"><pre>DecisionTreeRegressor(criterion=&#x27;absolute_error&#x27;, max_depth=3, random_state=101)</pre></div></div></div></div></div></div></div>"
      ],
      "text/plain": [
       "Pipeline(steps=[('OrdinalEncoder',\n",
       "                 ColumnTransformer(remainder='passthrough',\n",
       "                                   transformers=[('ordinalencoder',\n",
       "                                                  OrdinalEncoder(handle_unknown='use_encoded_value',\n",
       "                                                                 unknown_value=-1),\n",
       "                                                  Index(['Gearing_Type', 'make_model'], dtype='object'))])),\n",
       "                ('DT_model',\n",
       "                 DecisionTreeRegressor(criterion='absolute_error', max_depth=3,\n",
       "                                       random_state=101))])"
      ]
     },
     "execution_count": 73,
     "metadata": {},
     "output_type": "execute_result"
    }
   ],
   "source": [
    "model.fit(X_train, y_train)"
   ]
  },
  {
   "cell_type": "code",
   "execution_count": 74,
   "id": "maritime-circumstances",
   "metadata": {
    "ExecuteTime": {
     "end_time": "2022-12-10T06:14:46.574661Z",
     "start_time": "2022-12-10T06:14:46.550717Z"
    }
   },
   "outputs": [
    {
     "data": {
      "text/html": [
       "<div>\n",
       "<style scoped>\n",
       "    .dataframe tbody tr th:only-of-type {\n",
       "        vertical-align: middle;\n",
       "    }\n",
       "\n",
       "    .dataframe tbody tr th {\n",
       "        vertical-align: top;\n",
       "    }\n",
       "\n",
       "    .dataframe thead th {\n",
       "        text-align: right;\n",
       "    }\n",
       "</style>\n",
       "<table border=\"1\" class=\"dataframe\">\n",
       "  <thead>\n",
       "    <tr style=\"text-align: right;\">\n",
       "      <th></th>\n",
       "      <th>train</th>\n",
       "      <th>test</th>\n",
       "    </tr>\n",
       "  </thead>\n",
       "  <tbody>\n",
       "    <tr>\n",
       "      <th>R2</th>\n",
       "      <td>6.852649e-01</td>\n",
       "      <td>6.886543e-01</td>\n",
       "    </tr>\n",
       "    <tr>\n",
       "      <th>mae</th>\n",
       "      <td>2.786595e+03</td>\n",
       "      <td>2.746141e+03</td>\n",
       "    </tr>\n",
       "    <tr>\n",
       "      <th>mse</th>\n",
       "      <td>1.729556e+07</td>\n",
       "      <td>1.637704e+07</td>\n",
       "    </tr>\n",
       "    <tr>\n",
       "      <th>rmse</th>\n",
       "      <td>4.158793e+03</td>\n",
       "      <td>4.046856e+03</td>\n",
       "    </tr>\n",
       "  </tbody>\n",
       "</table>\n",
       "</div>"
      ],
      "text/plain": [
       "             train          test\n",
       "R2    6.852649e-01  6.886543e-01\n",
       "mae   2.786595e+03  2.746141e+03\n",
       "mse   1.729556e+07  1.637704e+07\n",
       "rmse  4.158793e+03  4.046856e+03"
      ]
     },
     "execution_count": 74,
     "metadata": {},
     "output_type": "execute_result"
    }
   ],
   "source": [
    "train_val(model, X_train, y_train, X_test, y_test)"
   ]
  },
  {
   "cell_type": "code",
   "execution_count": 77,
   "id": "20cff7df",
   "metadata": {
    "ExecuteTime": {
     "end_time": "2022-12-10T06:14:46.622949Z",
     "start_time": "2022-12-10T06:14:46.606770Z"
    }
   },
   "outputs": [
    {
     "data": {
      "text/html": [
       "<div>\n",
       "<style scoped>\n",
       "    .dataframe tbody tr th:only-of-type {\n",
       "        vertical-align: middle;\n",
       "    }\n",
       "\n",
       "    .dataframe tbody tr th {\n",
       "        vertical-align: top;\n",
       "    }\n",
       "\n",
       "    .dataframe thead th {\n",
       "        text-align: right;\n",
       "    }\n",
       "</style>\n",
       "<table border=\"1\" class=\"dataframe\">\n",
       "  <thead>\n",
       "    <tr style=\"text-align: right;\">\n",
       "      <th></th>\n",
       "      <th>age</th>\n",
       "      <th>hp_kW</th>\n",
       "      <th>km</th>\n",
       "      <th>Gearing_Type</th>\n",
       "      <th>make_model</th>\n",
       "    </tr>\n",
       "  </thead>\n",
       "  <tbody>\n",
       "    <tr>\n",
       "      <th>15426</th>\n",
       "      <td>1.0</td>\n",
       "      <td>118.0</td>\n",
       "      <td>18035.130067</td>\n",
       "      <td>Automatic</td>\n",
       "      <td>Renault Espace</td>\n",
       "    </tr>\n",
       "  </tbody>\n",
       "</table>\n",
       "</div>"
      ],
      "text/plain": [
       "       age  hp_kW            km Gearing_Type      make_model\n",
       "15426  1.0  118.0  18035.130067    Automatic  Renault Espace"
      ]
     },
     "execution_count": 77,
     "metadata": {},
     "output_type": "execute_result"
    }
   ],
   "source": [
    "X_train.head(1)\n",
    "\n",
    "# pipeline içerisinde make_colum_transform kullanıldığından burdaki feture isimlerini kullanmıyoruz."
   ]
  },
  {
   "cell_type": "code",
   "execution_count": null,
   "id": "1f8c3856",
   "metadata": {},
   "outputs": [],
   "source": [
    "import pickle\n",
    "pickle.dump(model, open('DT_model','wb'))"
   ]
  }
 ],
 "metadata": {
  "kernelspec": {
   "display_name": "env_project",
   "language": "python",
   "name": "python3"
  },
  "language_info": {
   "codemirror_mode": {
    "name": "ipython",
    "version": 3
   },
   "file_extension": ".py",
   "mimetype": "text/x-python",
   "name": "python",
   "nbconvert_exporter": "python",
   "pygments_lexer": "ipython3",
   "version": "3.11.1"
  },
  "toc": {
   "base_numbering": 1,
   "nav_menu": {},
   "number_sections": true,
   "sideBar": true,
   "skip_h1_title": false,
   "title_cell": "Table of Contents",
   "title_sidebar": "Contents",
   "toc_cell": false,
   "toc_position": {},
   "toc_section_display": true,
   "toc_window_display": false
  },
  "varInspector": {
   "cols": {
    "lenName": 16,
    "lenType": 16,
    "lenVar": 40
   },
   "kernels_config": {
    "python": {
     "delete_cmd_postfix": "",
     "delete_cmd_prefix": "del ",
     "library": "var_list.py",
     "varRefreshCmd": "print(var_dic_list())"
    },
    "r": {
     "delete_cmd_postfix": ") ",
     "delete_cmd_prefix": "rm(",
     "library": "var_list.r",
     "varRefreshCmd": "cat(var_dic_list()) "
    }
   },
   "types_to_exclude": [
    "module",
    "function",
    "builtin_function_or_method",
    "instance",
    "_Feature"
   ],
   "window_display": false
  },
  "vscode": {
   "interpreter": {
    "hash": "e8d280e3daca4e963010613e55aca4dd2377dbfdab2ca0af671ef9cf6754a515"
   }
  }
 },
 "nbformat": 4,
 "nbformat_minor": 5
}
